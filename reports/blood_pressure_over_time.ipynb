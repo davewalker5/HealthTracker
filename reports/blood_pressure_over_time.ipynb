{
 "cells": [
  {
   "attachments": {},
   "cell_type": "markdown",
   "metadata": {},
   "source": [
    "# Blood Pressure Over Time\n",
    "\n",
    "This notebook generates a chart of blood pressure readings over time from blood pressure data held in the Health Tracker database and retrieved via the Health Tracker Web Service.\n",
    "\n",
    "It requires a copy of \"api.ipynb\" in the same folder, as this defines functions used to access the web service.\n",
    "\n",
    "To use it, set the credentials, user details and chart export format in the first code cell before running the notebook."
   ]
  },
  {
   "cell_type": "code",
   "execution_count": null,
   "metadata": {},
   "outputs": [],
   "source": [
    "# Credentials for the user to log in as\n",
    "username = \"\"\n",
    "password = \"\"\n",
    "\n",
    "# Details for the person to report for\n",
    "firstnames = \"\"\n",
    "surname = \"\"\n",
    "\n",
    "# Export format for the chart:\n",
    "# PNG     - export as PNG image\n",
    "# PDF     - export as PDF file\n",
    "# <blank> - do not export\n",
    "export_format = \"PNG\""
   ]
  },
  {
   "cell_type": "code",
   "execution_count": null,
   "metadata": {},
   "outputs": [],
   "source": [
    "# Base URL for the Health Tracker service\n",
    "url = \"http://localhost:8099\"\n",
    "\n",
    "# Limits for high and low blood pressure readings\n",
    "systolic_threshold = 140\n",
    "diastolic_threshold = 90\n",
    "\n",
    "# Threshold used to identify gaps in the data and segment it for plotting\n",
    "gap_threshold = 7"
   ]
  },
  {
   "cell_type": "code",
   "execution_count": null,
   "metadata": {},
   "outputs": [],
   "source": [
    "%run api.ipynb"
   ]
  },
  {
   "cell_type": "code",
   "execution_count": null,
   "metadata": {},
   "outputs": [],
   "source": [
    "from datetime import date, datetime, timedelta\n",
    "\n",
    "# Retrieve all-time blood pressure readings\n",
    "start = date(1900, 1, 1)\n",
    "end = datetime.now() + timedelta(days=1)\n",
    "\n",
    "# Log in to the service, get the person ID and retrieve the blood pressure readings\n",
    "token = authenticate(url, username, password)\n",
    "person_id = get_person_id(url, token, firstnames, surname)\n",
    "df = get_daily_blood_pressure_measurements(url, token, person_id, start, end)\n",
    "\n",
    "# Preview the data\n",
    "df.head()"
   ]
  },
  {
   "cell_type": "code",
   "execution_count": null,
   "metadata": {},
   "outputs": [],
   "source": [
    "import pandas as pd\n",
    "\n",
    "# Make the data \"gap aware\" rather than trying to draw nonsensical lines across gaps. This is done\n",
    "# by identifying gaps greather than the threshold in length and breaking the data into segments that\n",
    "# can then be plotted separately\n",
    "gap_threshold = pd.Timedelta(days=gap_threshold)\n",
    "df[\"gap\"] = df[\"date\"].diff() > gap_threshold\n",
    "df[\"segment\"] = df[\"gap\"].cumsum()\n",
    "\n",
    "# Preview the data\n",
    "df.head()"
   ]
  },
  {
   "cell_type": "code",
   "execution_count": null,
   "metadata": {},
   "outputs": [],
   "source": [
    "import matplotlib.pyplot as plt\n",
    "\n",
    "def plot_segments(df, column, color, label):\n",
    "    for _, segment_df in df.groupby(\"segment\"):\n",
    "        # Need at least 2 points in a segment to draw the line\n",
    "        if len(segment_df) < 2:\n",
    "            continue\n",
    "\n",
    "        # Plot the segment\n",
    "        plt.plot(segment_df[\"date\"], segment_df[column], color=color, label=label)\n",
    "        label = None"
   ]
  },
  {
   "cell_type": "code",
   "execution_count": null,
   "metadata": {},
   "outputs": [],
   "source": [
    "import pandas as pd\n",
    "from pathlib import Path\n",
    "\n",
    "# Create the folder to hold exported reports\n",
    "export_folder_path = Path(\"exported\")\n",
    "export_folder_path.mkdir(parents=True, exist_ok=True)\n",
    "\n",
    "# Define the export file name\n",
    "export_file_name = \"Blood-Pressure-Over-Time\"\n",
    "output_path = export_folder_path / f\"{export_file_name}.xlsx\"\n",
    "\n",
    "# Create a Pandas Excel writer\n",
    "with pd.ExcelWriter(output_path.absolute(), engine=\"openpyxl\") as writer:\n",
    "    df.to_excel(writer, sheet_name=\"Blood Pressure\", index=False)"
   ]
  },
  {
   "cell_type": "code",
   "execution_count": null,
   "metadata": {},
   "outputs": [],
   "source": [
    "import matplotlib.pyplot as plt\n",
    "\n",
    "# Plot systolic and diastolic\n",
    "plt.figure(figsize=(12, 6))\n",
    "plot_segments(df, \"systolic\", \"red\", \"Systolic\")\n",
    "plot_segments(df, \"diastolic\", \"blue\", \"Diastolic\")\n",
    "\n",
    "# Draw the hypertension threshold lines\n",
    "plt.axhline(systolic_threshold, color=\"red\", linestyle=\"--\", linewidth=2, alpha=0.7, label=\"Systolic Upper Threshold\")\n",
    "plt.axhline(diastolic_threshold, color=\"blue\", linestyle=\"--\", linewidth=2, alpha=0.7, label=\"Diastolic Upper Threshold\")\n",
    "\n",
    "# Set title and labels\n",
    "plt.title(\"Blood Pressure Over Time\")\n",
    "plt.xlabel(\"Date\")\n",
    "plt.ylabel(\"Blood Pressure (mmHg)\")\n",
    "plt.grid(True)\n",
    "\n",
    "# Move legend below the chart\n",
    "plt.legend(loc=\"upper center\", bbox_to_anchor=(0.5, -0.1), ncol=2)\n",
    "\n",
    "plt.tight_layout()\n",
    "\n",
    "# Export to PNG\n",
    "if export_format.casefold() == \"png\":\n",
    "    export_file_path = export_folder_path / f\"{export_file_name}.png\"\n",
    "    plt.savefig(export_file_path.absolute(), format=\"png\", dpi=300, bbox_inches=\"tight\")\n",
    "\n",
    "# Export to PDF\n",
    "if export_format.casefold() == \"pdf\":\n",
    "    export_file_path = export_folder_path / f\"{export_file_name}.pdf\"\n",
    "    plt.savefig(export_file_path.absolute(), format=\"pdf\", bbox_inches=\"tight\")\n",
    "\n",
    "# Show the plot\n",
    "plt.show()\n"
   ]
  }
 ],
 "metadata": {
  "kernelspec": {
   "display_name": "venv",
   "language": "python",
   "name": "python3"
  },
  "language_info": {
   "codemirror_mode": {
    "name": "ipython",
    "version": 3
   },
   "file_extension": ".py",
   "mimetype": "text/x-python",
   "name": "python",
   "nbconvert_exporter": "python",
   "pygments_lexer": "ipython3",
   "version": "3.13.2"
  },
  "orig_nbformat": 4,
  "vscode": {
   "interpreter": {
    "hash": "4a95780be54ed74a6e7dfb7f5a83a5e6b3ac554c468991dab9a2c664835b4799"
   }
  }
 },
 "nbformat": 4,
 "nbformat_minor": 2
}
