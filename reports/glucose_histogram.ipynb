{
 "cells": [
  {
   "attachments": {},
   "cell_type": "markdown",
   "id": "7e970cd3",
   "metadata": {},
   "source": [
    "# Glucose Histogram\n",
    "\n",
    "This notebook generates a histogram showing the distribution of glucose levels from blood glucose readings held in the Health Tracker database and retrieved via the Health Tracker Web Service.\n",
    "\n",
    "- Histogram and KDE chart\n",
    "- Faceted histogram and KDE charts for time of day (morning, afternoon, evening and night)\n",
    "\n",
    "KDE plots provide a \"smooth curve\" over histogram data.\n",
    "\n",
    "Before attempting to run the notebook:\n",
    "\n",
    "- Make sure the variables defined in \"config.ipynb\" are set correctly\n",
    "- Set the reporting date range and export options in the first code cell"
   ]
  },
  {
   "cell_type": "code",
   "execution_count": null,
   "id": "e30b908f",
   "metadata": {},
   "outputs": [],
   "source": [
    "from datetime import date, datetime, timedelta\n",
    "\n",
    "# Retrieve all-time blood glucose readings\n",
    "start = date(1900, 1, 1)\n",
    "end = datetime.now() + timedelta(days=1)\n",
    "\n",
    "# Export format for the chart:\n",
    "# PNG     - export as PNG image\n",
    "# PDF     - export as PDF file\n",
    "# <blank> - do not export\n",
    "chart_export_format = \"PNG\""
   ]
  },
  {
   "cell_type": "code",
   "execution_count": null,
   "id": "75b79197",
   "metadata": {},
   "outputs": [],
   "source": [
    "%run api.ipynb\n",
    "%run config.ipynb"
   ]
  },
  {
   "cell_type": "code",
   "execution_count": null,
   "id": "78365216",
   "metadata": {},
   "outputs": [],
   "source": [
    "# Log in to the service, get the person ID and retrieve the blood pressure readings\n",
    "token = authenticate(url, username, password)\n",
    "person_id = get_person_id(url, token, firstnames, surname)\n",
    "df = get_blood_glucose_measurements(url, token, person_id, start, end)\n",
    "\n",
    "# Preview the data\n",
    "df.head()"
   ]
  },
  {
   "cell_type": "code",
   "execution_count": null,
   "id": "723712b8",
   "metadata": {},
   "outputs": [],
   "source": [
    "def categorize_time_of_day(hour):\n",
    "    if 5 <= hour < 12:\n",
    "        return \"Morning\"\n",
    "    elif 12 <= hour < 17:\n",
    "        return \"Afternoon\"\n",
    "    elif 17 <= hour < 21:\n",
    "        return \"Evening\"\n",
    "    else:\n",
    "        return \"Night\"\n",
    "\n",
    "# Extract the hour and categorise each reading by the time of day\n",
    "df[\"hour\"] = df[\"date\"].dt.hour\n",
    "df[\"time_of_day\"] = df[\"hour\"].apply(categorize_time_of_day)\n",
    "\n",
    "# Preview the data\n",
    "df.head()"
   ]
  },
  {
   "cell_type": "code",
   "execution_count": null,
   "id": "7d569a47",
   "metadata": {},
   "outputs": [],
   "source": [
    "import pandas as pd\n",
    "from pathlib import Path\n",
    "\n",
    "# Create the folder to hold exported reports\n",
    "export_folder_path = Path(\"exported\")\n",
    "export_folder_path.mkdir(parents=True, exist_ok=True)\n",
    "\n",
    "# Define the export file name\n",
    "export_file_name = \"Glucose-Histogram\""
   ]
  },
  {
   "cell_type": "code",
   "execution_count": null,
   "id": "6038e39a",
   "metadata": {},
   "outputs": [],
   "source": [
    "import matplotlib.pyplot as plt\n",
    "import seaborn as sns\n",
    "\n",
    "plt.figure(figsize=(12, 6))\n",
    "\n",
    "# Histogram with density normalization. This ensures the \n",
    "sns.histplot(df[\"level\"], color=\"orange\", edgecolor=\"red\", kde=False, stat=\"density\")\n",
    "\n",
    "# KDE chart\n",
    "sns.kdeplot(df[\"level\"], color=\"darkred\", linewidth=2, fill=True, alpha=0.3)\n",
    "\n",
    "# Set the chart properties\n",
    "plt.title(\"Distribution of Blood Glucose Readings\")\n",
    "plt.xlabel(\"Glucose (mmol/L)\")\n",
    "plt.ylabel(\"Frequency / Density\")\n",
    "plt.grid(True)\n",
    "plt.tight_layout()\n",
    "\n",
    "# Export to PNG\n",
    "if chart_export_format.casefold() == \"png\":\n",
    "    export_file_path = export_folder_path / f\"{export_file_name}.png\"\n",
    "    plt.savefig(export_file_path.absolute(), format=\"png\", dpi=300, bbox_inches=\"tight\")\n",
    "\n",
    "# Export to PDF\n",
    "if chart_export_format.casefold() == \"pdf\":\n",
    "    export_file_path = export_folder_path / f\"{export_file_name}.pdf\"\n",
    "    plt.savefig(export_file_path.absolute(), format=\"pdf\", bbox_inches=\"tight\")\n",
    "\n",
    "# Display the chart\n",
    "plt.show()"
   ]
  },
  {
   "cell_type": "code",
   "execution_count": null,
   "id": "4dca37bd",
   "metadata": {},
   "outputs": [],
   "source": [
    "import seaborn as sns\n",
    "\n",
    "# Define the order in which the facets should be plotted\n",
    "time_order = [\"Morning\", \"Afternoon\", \"Evening\", \"Night\"]\n",
    "\n",
    "# Create a FacetGrid\n",
    "g = sns.FacetGrid(df, col=\"time_of_day\", col_order=time_order, col_wrap=2, sharex=True, sharey=True, height=4)\n",
    "\n",
    "# Add histogram (normalized to density)\n",
    "g.map_dataframe(sns.histplot, x=\"level\", stat=\"density\", color=\"orange\", edgecolor=\"red\")\n",
    "\n",
    "# Add KDE with shaded area\n",
    "g.map_dataframe(sns.kdeplot, x=\"level\", color=\"darkred\", fill=True, alpha=0.3, linewidth=2)\n",
    "\n",
    "# Clean facet titles so they show e.g. Morning rather than time_of_day=Morning\n",
    "for ax in g.axes.flatten():\n",
    "    title = ax.get_title()\n",
    "    new_title = title.split(\"=\")[-1].strip()\n",
    "    ax.set_title(new_title)\n",
    "\n",
    "# Add titles and labels\n",
    "g.set_axis_labels(\"Glucose (mmol/L)\", \"Density\")\n",
    "g.fig.suptitle(\"Glucose Distribution by Time of Day\", fontsize=16)\n",
    "g.fig.tight_layout()\n",
    "g.fig.subplots_adjust(top=0.9)\n",
    "\n",
    "# Export to PNG\n",
    "if chart_export_format.casefold() == \"png\":\n",
    "    export_file_path = export_folder_path / f\"{export_file_name}-TimeOfDay.png\"\n",
    "    plt.savefig(export_file_path.absolute(), format=\"png\", dpi=300, bbox_inches=\"tight\")\n",
    "\n",
    "# Export to PDF\n",
    "if chart_export_format.casefold() == \"pdf\":\n",
    "    export_file_path = export_folder_path / f\"{export_file_name}-TimeOfDay.pdf\"\n",
    "    plt.savefig(export_file_path.absolute(), format=\"pdf\", bbox_inches=\"tight\")\n"
   ]
  }
 ],
 "metadata": {
  "kernelspec": {
   "display_name": "venv",
   "language": "python",
   "name": "python3"
  },
  "language_info": {
   "codemirror_mode": {
    "name": "ipython",
    "version": 3
   },
   "file_extension": ".py",
   "mimetype": "text/x-python",
   "name": "python",
   "nbconvert_exporter": "python",
   "pygments_lexer": "ipython3",
   "version": "3.11.4"
  },
  "vscode": {
   "interpreter": {
    "hash": "4a95780be54ed74a6e7dfb7f5a83a5e6b3ac554c468991dab9a2c664835b4799"
   }
  }
 },
 "nbformat": 4,
 "nbformat_minor": 5
}
