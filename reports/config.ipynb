{
 "cells": [
  {
   "attachments": {},
   "cell_type": "markdown",
   "metadata": {},
   "source": [
    "# Configuration\n",
    "\n",
    "This notebook sets the folloowing:\n",
    "\n",
    "- Base URL for the Health Tracker API\n",
    "- Login credentials for the API\n",
    "- The user of interest to report on\n",
    "\n",
    "It's called by the reporting notebooks in this folder and the variables it defines should be set before attempting to run the reports."
   ]
  },
  {
   "cell_type": "code",
   "execution_count": null,
   "metadata": {},
   "outputs": [],
   "source": [
    "# Base URL for the Health Tracker service\n",
    "url = \"http://localhost:8099\"\n",
    "\n",
    "# Credentials for the user to log in as\n",
    "username = \"\"\n",
    "password = \"\"\n",
    "\n",
    "# Details for the person to report for\n",
    "firstnames = \"\"\n",
    "surname = \"\""
   ]
  }
 ],
 "metadata": {
  "kernelspec": {
   "display_name": "venv",
   "language": "python",
   "name": "python3"
  },
  "language_info": {
   "codemirror_mode": {
    "name": "ipython",
    "version": 3
   },
   "file_extension": ".py",
   "mimetype": "text/x-python",
   "name": "python",
   "nbconvert_exporter": "python",
   "pygments_lexer": "ipython3",
   "version": "3.13.2"
  },
  "orig_nbformat": 4,
  "vscode": {
   "interpreter": {
    "hash": "4a95780be54ed74a6e7dfb7f5a83a5e6b3ac554c468991dab9a2c664835b4799"
   }
  }
 },
 "nbformat": 4,
 "nbformat_minor": 2
}
