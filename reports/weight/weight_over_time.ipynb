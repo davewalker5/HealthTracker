{
 "cells": [
  {
   "attachments": {},
   "cell_type": "markdown",
   "metadata": {},
   "source": [
    "# Weight and BMI Over Time\n",
    "\n",
    "This notebook generates a chart of weight and BMI measurements over time from data held in the Health Tracker database and retrieved via the Health Tracker Web Service.\n",
    "\n",
    "Before attempting to run the notebook:\n",
    "\n",
    "- Make sure the variables defined in \"config.ipynb\" are set correctly\n",
    "- Set the reporting date range and export options in the first code cell"
   ]
  },
  {
   "cell_type": "code",
   "execution_count": null,
   "metadata": {},
   "outputs": [],
   "source": [
    "from datetime import date, datetime, timedelta\n",
    "\n",
    "# Reporting date range\n",
    "start = date(1900, 1, 1)\n",
    "end = datetime.now() + timedelta(days=1)\n",
    "\n",
    "# Whether to export the data to a spreadsheet\n",
    "export_spreadsheet = True\n",
    "\n",
    "# Export format for the chart:\n",
    "# PNG     - export as PNG image\n",
    "# PDF     - export as PDF file\n",
    "# <blank> - do not export\n",
    "chart_export_format = \"PNG\""
   ]
  },
  {
   "cell_type": "code",
   "execution_count": null,
   "metadata": {},
   "outputs": [],
   "source": [
    "%run ../api.ipynb\n",
    "%run ../config.ipynb\n",
    "%run ../export.ipynb"
   ]
  },
  {
   "cell_type": "code",
   "execution_count": null,
   "metadata": {},
   "outputs": [],
   "source": [
    "from datetime import date, datetime, timedelta\n",
    "\n",
    "# Retrieve all-time blood pressure readings\n",
    "start = date(1900, 1, 1)\n",
    "end = datetime.now() + timedelta(days=1)\n",
    "\n",
    "# Log in to the service, get the person ID and retrieve the blood pressure readings\n",
    "token = authenticate(url, username, password)\n",
    "person_id = get_person_id(url, token, firstnames, surname)\n",
    "df = get_weight_measurements(url, token, person_id, start, end)\n",
    "\n",
    "# Preview the data\n",
    "df.head()"
   ]
  },
  {
   "cell_type": "code",
   "execution_count": null,
   "metadata": {},
   "outputs": [],
   "source": [
    "import pandas as pd\n",
    "\n",
    "# Resample the data at monthly level to produce a cleaner plot\n",
    "numeric_df = df[[\"date\", \"weight\", \"bmi\"]].set_index(\"date\")\n",
    "monthly_df = numeric_df.resample(\"MS\").mean().reset_index()\n",
    "\n",
    "# Preview the data\n",
    "monthly_df.head()"
   ]
  },
  {
   "cell_type": "code",
   "execution_count": null,
   "metadata": {},
   "outputs": [],
   "source": [
    "# Export the data to a spreadsheet\n",
    "if export_spreadsheet:\n",
    "    export_to_spreadsheet(\"weight_over_time\", { \"Monthly Trends\": monthly_df })\n"
   ]
  },
  {
   "cell_type": "code",
   "execution_count": null,
   "metadata": {},
   "outputs": [],
   "source": [
    "import matplotlib.pyplot as plt\n",
    "\n",
    "# Plotting\n",
    "fig, ax1 = plt.subplots(figsize=(12, 6))\n",
    "\n",
    "# Determine the Y-axis limits for the bar chart\n",
    "y_minimum = monthly_df[\"weight\"].min(axis=0) - 1\n",
    "y_maximum = monthly_df[\"weight\"].max(axis=0) + 1\n",
    "\n",
    "# Bar chart for monthly weight\n",
    "ax1.bar(monthly_df[\"date\"], monthly_df[\"weight\"], color=\"skyblue\", label=\"Weight (kg)\", width=20)\n",
    "ax1.set_xlabel(\"Date\", color=\"black\")\n",
    "ax1.set_ylabel(\"Weight (kg)\", color=\"black\")\n",
    "ax1.tick_params(axis=\"y\", labelcolor=\"black\")\n",
    "ax1.set_ylim(y_minimum, y_maximum)\n",
    "\n",
    "# Determine the Y-axis limits for the bmi line chart\n",
    "y_minimum = monthly_df[\"bmi\"].min(axis=0) - 0.25\n",
    "y_maximum = monthly_df[\"bmi\"].max(axis=0) + 0.25\n",
    "\n",
    "# Second y-axis for BMI\n",
    "ax2 = ax1.twinx()\n",
    "ax2.plot(monthly_df[\"date\"], monthly_df[\"bmi\"], color=\"red\", label=\"BMI\")\n",
    "ax2.set_ylabel(\"BMI\", color=\"black\")\n",
    "ax2.tick_params(axis=\"y\", labelcolor=\"black\")\n",
    "ax2.set_ylim(y_minimum, y_maximum)\n",
    "\n",
    "# X-axis formatting\n",
    "plt.xticks(rotation=45)\n",
    "plt.title(\"Monthly Weight (Bar) and BMI (Line) Averages\")\n",
    "\n",
    "# Combine both axis legends\n",
    "lines_1, labels_1 = ax1.get_legend_handles_labels()\n",
    "lines_2, labels_2 = ax2.get_legend_handles_labels()\n",
    "\n",
    "fig.legend(\n",
    "    lines_1 + lines_2,\n",
    "    labels_1 + labels_2,\n",
    "    loc=\"upper center\",\n",
    "    bbox_to_anchor=(0.5, 0.0),\n",
    "    ncol=2,\n",
    "    frameon=False\n",
    ")\n",
    "\n",
    "fig.tight_layout()\n",
    "\n",
    "# Export to PNG or PDF, if required\n",
    "export_chart(\"weight_over_time\", None, chart_export_format)\n",
    "\n",
    "# Show the plot\n",
    "plt.show()"
   ]
  }
 ],
 "metadata": {
  "kernelspec": {
   "display_name": "venv",
   "language": "python",
   "name": "python3"
  },
  "language_info": {
   "codemirror_mode": {
    "name": "ipython",
    "version": 3
   },
   "file_extension": ".py",
   "mimetype": "text/x-python",
   "name": "python",
   "nbconvert_exporter": "python",
   "pygments_lexer": "ipython3",
   "version": "3.11.4"
  },
  "orig_nbformat": 4,
  "vscode": {
   "interpreter": {
    "hash": "4a95780be54ed74a6e7dfb7f5a83a5e6b3ac554c468991dab9a2c664835b4799"
   }
  }
 },
 "nbformat": 4,
 "nbformat_minor": 2
}
