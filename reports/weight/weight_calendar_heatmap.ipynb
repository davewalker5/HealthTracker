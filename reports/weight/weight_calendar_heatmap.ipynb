{
 "cells": [
  {
   "attachments": {},
   "cell_type": "markdown",
   "metadata": {},
   "source": [
    "# Weight Heatmap Over Time\n",
    "\n",
    "This notebook generates a heatmap of weight over time from data held in the Health Tracker database and retrieved via the Health Tracker Web Service.\n",
    "\n",
    "Before attempting to run the notebook:\n",
    "\n",
    "- Make sure the variables defined in \"config.ipynb\" are set correctly\n",
    "- Set the reporting date range and export options in the first code cell"
   ]
  },
  {
   "cell_type": "code",
   "execution_count": null,
   "metadata": {},
   "outputs": [],
   "source": [
    "from datetime import date, datetime, timedelta\n",
    "\n",
    "# Reporting date range\n",
    "start = date(2024, 12, 1)\n",
    "end = datetime.now() + timedelta(days=1)\n",
    "\n",
    "# Whether to export the data to a spreadsheet\n",
    "export_spreadsheet = True\n",
    "\n",
    "# Export format for the chart:\n",
    "# PNG     - export as PNG image\n",
    "# PDF     - export as PDF file\n",
    "# <blank> - do not export\n",
    "chart_export_format = \"PNG\""
   ]
  },
  {
   "cell_type": "code",
   "execution_count": null,
   "metadata": {},
   "outputs": [],
   "source": [
    "# Rolling window size for trend plotting\n",
    "window = 7"
   ]
  },
  {
   "cell_type": "code",
   "execution_count": null,
   "metadata": {},
   "outputs": [],
   "source": [
    "%run ../api.ipynb\n",
    "%run ../config.ipynb\n",
    "%run ../export.ipynb"
   ]
  },
  {
   "cell_type": "code",
   "execution_count": null,
   "metadata": {},
   "outputs": [],
   "source": [
    "# Log in to the service, get the person ID and retrieve the data\n",
    "token = authenticate(url, username, password)\n",
    "person_id = get_person_id(url, token, firstnames, surname)\n",
    "df = get_weight_measurements(url, token, person_id, start, end)\n",
    "\n",
    "# Preview the data\n",
    "df.head()"
   ]
  },
  {
   "cell_type": "code",
   "execution_count": null,
   "metadata": {},
   "outputs": [],
   "source": [
    "# Calmap requires the data frame index to be the date\n",
    "df.set_index(\"date\", inplace=True)\n",
    "\n",
    "# Calculate a rolling window and use it to generate trend information\n",
    "trend_df = df[\"weight\"].rolling(window).mean().diff()\n",
    "trend_df.name = \"Change\"\n",
    "\n",
    "# Remove NaN values\n",
    "trend_df = trend_df.dropna()\n",
    "\n",
    "trend_df.head()"
   ]
  },
  {
   "cell_type": "code",
   "execution_count": null,
   "metadata": {},
   "outputs": [],
   "source": [
    "# Export the data to a spreadsheet\n",
    "if export_spreadsheet:\n",
    "    export_to_spreadsheet(\"weight_calendar_heatmap\", { \"Trend\": trend_df })\n"
   ]
  },
  {
   "cell_type": "code",
   "execution_count": null,
   "metadata": {},
   "outputs": [],
   "source": [
    "import calmap\n",
    "import matplotlib.pyplot as plt\n",
    "import matplotlib as mpl\n",
    "\n",
    "# Create the calendar plot\n",
    "series = df[\"weight\"]\n",
    "fig, axes = calmap.calendarplot(\n",
    "    series,\n",
    "    cmap=\"YlOrRd\",\n",
    "    fillcolor=\"lightgrey\",\n",
    "    linewidth=0.5,\n",
    "    fig_kws=dict(figsize=(16, 10))\n",
    ")\n",
    "\n",
    "# Add a global title\n",
    "fig.suptitle(\"Daily Weight Heatmap\", fontsize=22, y=0.8)\n",
    "\n",
    "# Adjust the layout to make space for the colorbar\n",
    "fig.subplots_adjust(bottom=0.12)\n",
    "\n",
    "# Create color normalization and colorbar\n",
    "norm = mpl.colors.Normalize(vmin=series.min(), vmax=series.max())\n",
    "sm = plt.cm.ScalarMappable(cmap=\"YlOrRd\", norm=norm)\n",
    "sm.set_array([])\n",
    "\n",
    "# Add horizontal colorbar below the calendar heatmaps\n",
    "cbar = fig.colorbar(sm, ax=axes.ravel().tolist(), orientation=\"horizontal\",\n",
    "                    fraction=0.025, pad=0.08)\n",
    "cbar.set_label(\"Weight (Kg)\", fontsize=14)\n",
    "\n",
    "# Export to PNG or PDF, if required\n",
    "export_chart(\"weight_calendar_heatmap\", \"Daily-Weight\", chart_export_format)\n",
    "\n",
    "# Show the plot\n",
    "plt.show()\n"
   ]
  },
  {
   "cell_type": "code",
   "execution_count": null,
   "metadata": {},
   "outputs": [],
   "source": [
    "import calmap\n",
    "import matplotlib.pyplot as plt\n",
    "import matplotlib as mpl\n",
    "\n",
    "# Create the calendar plot\n",
    "fig, axes = calmap.calendarplot(\n",
    "    trend_df,\n",
    "    cmap=\"YlOrRd\",\n",
    "    fillcolor=\"lightgrey\",\n",
    "    linewidth=0.5,\n",
    "    fig_kws=dict(figsize=(16, 10))\n",
    ")\n",
    "\n",
    "# Add a global title\n",
    "fig.suptitle(\"Weight Trend Heatmap\", fontsize=22, y=0.8)\n",
    "\n",
    "# Adjust the layout to make space for the colorbar\n",
    "fig.subplots_adjust(bottom=0.12)\n",
    "\n",
    "# Create color normalization and colorbar\n",
    "norm = mpl.colors.Normalize(vmin=trend_df.min(), vmax=trend_df.max())\n",
    "sm = plt.cm.ScalarMappable(cmap=\"YlOrRd\", norm=norm)\n",
    "sm.set_array([])\n",
    "\n",
    "# Add horizontal colorbar below the calendar heatmaps\n",
    "cbar = fig.colorbar(sm, ax=axes.ravel().tolist(), orientation=\"horizontal\",\n",
    "                    fraction=0.025, pad=0.08)\n",
    "cbar.set_label(f\"Rolling {window} Day Change (Kg)\", fontsize=14)\n",
    "\n",
    "# Export to PNG or PDF, if required\n",
    "export_chart(\"weight_calendar_heatmap\", \"Trend\", chart_export_format)\n",
    "\n",
    "# Show the plot\n",
    "plt.show()\n"
   ]
  }
 ],
 "metadata": {
  "kernelspec": {
   "display_name": "venv",
   "language": "python",
   "name": "python3"
  },
  "language_info": {
   "codemirror_mode": {
    "name": "ipython",
    "version": 3
   },
   "file_extension": ".py",
   "mimetype": "text/x-python",
   "name": "python",
   "nbconvert_exporter": "python",
   "pygments_lexer": "ipython3",
   "version": "3.11.4"
  },
  "orig_nbformat": 4,
  "vscode": {
   "interpreter": {
    "hash": "4a95780be54ed74a6e7dfb7f5a83a5e6b3ac554c468991dab9a2c664835b4799"
   }
  }
 },
 "nbformat": 4,
 "nbformat_minor": 2
}
