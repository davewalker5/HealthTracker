{
 "cells": [
  {
   "attachments": {},
   "cell_type": "markdown",
   "metadata": {},
   "source": [
    "# Blood Pressure Trends Over Time\n",
    "\n",
    "This notebook generates a chart of blood pressure readings over time from blood pressure data held in the Health Tracker database and retrieved via the Health Tracker Web Service.\n",
    "\n",
    "Before attempting to run the notebook:\n",
    "\n",
    "- Make sure the variables defined in \"config.ipynb\" are set correctly\n",
    "- Set the reporting date range and export options in the first code cell"
   ]
  },
  {
   "cell_type": "code",
   "execution_count": null,
   "metadata": {},
   "outputs": [],
   "source": [
    "from datetime import date, datetime, timedelta\n",
    "\n",
    "# Reporting date range\n",
    "start = date(1900, 1, 1)\n",
    "end = datetime.now() + timedelta(days=1)\n",
    "\n",
    "# Whether to export the data to a spreadsheet\n",
    "export_spreadsheet = True\n",
    "\n",
    "# Export format for the chart:\n",
    "# PNG     - export as PNG image\n",
    "# PDF     - export as PDF file\n",
    "# <blank> - do not export\n",
    "chart_export_format = \"PNG\""
   ]
  },
  {
   "cell_type": "code",
   "execution_count": null,
   "metadata": {},
   "outputs": [],
   "source": [
    "%run ../api.ipynb\n",
    "%run ../config.ipynb\n",
    "%run ../export.ipynb"
   ]
  },
  {
   "cell_type": "code",
   "execution_count": null,
   "metadata": {},
   "outputs": [],
   "source": [
    "# Log in to the service, get the person ID and retrieve the data\n",
    "token = authenticate(url, username, password)\n",
    "person_id = get_person_id(url, token, firstnames, surname)\n",
    "df = get_daily_blood_pressure_measurements(url, token, person_id, start, end)\n",
    "\n",
    "# Preview the data\n",
    "df.head()"
   ]
  },
  {
   "cell_type": "code",
   "execution_count": null,
   "metadata": {},
   "outputs": [],
   "source": [
    "# The agg() function will fail if there are non-numeric columns in the data frame, aside from\n",
    "# the date. Extract the data for aggregation\n",
    "numeric_df = df[[\"date\", \"systolic\", \"diastolic\"]]\n",
    "\n",
    "# Make sure the date is the index\n",
    "numeric_df.set_index(\"date\", inplace=True)\n",
    "\n",
    "# Resample the data, weekly and monthly, including all periods (even if there are gaps). This results\n",
    "# in gaps in the plot, that accurately reflect the data\n",
    "monthly = numeric_df.resample(\"ME\").agg([\"mean\", \"min\", \"max\"]).asfreq(\"ME\")"
   ]
  },
  {
   "cell_type": "code",
   "execution_count": null,
   "metadata": {},
   "outputs": [],
   "source": [
    "# Export the data to a spreadsheet\n",
    "if export_spreadsheet:\n",
    "    export_to_spreadsheet(\"blood_pressure_trends\", { \"Monthly Trends\": monthly })\n"
   ]
  },
  {
   "cell_type": "code",
   "execution_count": null,
   "metadata": {},
   "outputs": [],
   "source": [
    "import matplotlib.pyplot as plt\n",
    "\n",
    "# Plot the systolic trends\n",
    "fig, axs = plt.subplots(figsize=(12, 8))\n",
    "\n",
    "monthly[\"systolic\"][\"mean\"].plot(linewidth=2, label=\"Systolic Mean\", color=\"orange\")\n",
    "monthly[\"systolic\"][\"min\"].plot(linestyle=\"--\", linewidth=2, label=\"Systolic Min\", color=\"red\")\n",
    "monthly[\"systolic\"][\"max\"].plot(linewidth=2, label=\"Systolic Max\", color=\"red\")\n",
    "\n",
    "# Set title and labels\n",
    "plt.title(\"Systolic Blood Pressure Trends Over Time\")\n",
    "plt.ylabel(\"Blood Pressure (mmHg)\")\n",
    "plt.grid(True)\n",
    "\n",
    "# Move legend below the chart\n",
    "plt.legend(loc=\"upper center\", bbox_to_anchor=(0.5, -0.1), ncol=2)\n",
    "plt.tight_layout()\n",
    "\n",
    "# Export to PNG or PDF, if required\n",
    "export_chart(\"blood_pressure_trends\", \"Monthly-Systolic\", chart_export_format)\n",
    "\n",
    "# Show the chart\n",
    "plt.show()\n"
   ]
  },
  {
   "cell_type": "code",
   "execution_count": null,
   "metadata": {},
   "outputs": [],
   "source": [
    "import matplotlib.pyplot as plt\n",
    "\n",
    "# Plot diastolic trends\n",
    "fig, axs = plt.subplots(figsize=(12, 8))\n",
    "\n",
    "monthly[\"diastolic\"][\"mean\"].plot(linewidth=2, label=\"Diastolic Mean\", color=\"cyan\")\n",
    "monthly[\"diastolic\"][\"min\"].plot(linestyle=\"--\", linewidth=2, label=\"Diastolic Min\", color=\"blue\")\n",
    "monthly[\"diastolic\"][\"max\"].plot(linewidth=2, label=\"Diastolic Max\", color=\"blue\")\n",
    "\n",
    "# Set title and labels\n",
    "plt.title(\"Diastolic Blood Pressure Trends Over Time\")\n",
    "plt.ylabel(\"Blood Pressure (mmHg)\")\n",
    "plt.grid(True)\n",
    "\n",
    "# Move legend below the chart\n",
    "plt.legend(loc=\"upper center\", bbox_to_anchor=(0.5, -0.1), ncol=2)\n",
    "plt.tight_layout()\n",
    "\n",
    "# Export to PNG or PDF, if required\n",
    "export_chart(\"blood_pressure_trends\", \"Monthly-Diastolic\", chart_export_format)\n",
    "\n",
    "# Show the chart\n",
    "plt.show()\n"
   ]
  }
 ],
 "metadata": {
  "kernelspec": {
   "display_name": "venv",
   "language": "python",
   "name": "python3"
  },
  "language_info": {
   "codemirror_mode": {
    "name": "ipython",
    "version": 3
   },
   "file_extension": ".py",
   "mimetype": "text/x-python",
   "name": "python",
   "nbconvert_exporter": "python",
   "pygments_lexer": "ipython3",
   "version": "3.11.4"
  },
  "orig_nbformat": 4,
  "vscode": {
   "interpreter": {
    "hash": "4a95780be54ed74a6e7dfb7f5a83a5e6b3ac554c468991dab9a2c664835b4799"
   }
  }
 },
 "nbformat": 4,
 "nbformat_minor": 2
}
