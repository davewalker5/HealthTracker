{
 "cells": [
  {
   "attachments": {},
   "cell_type": "markdown",
   "metadata": {},
   "source": [
    "# Blood Pressure KDE Plots\n",
    "\n",
    "This notebook generates a chart showing KDE plots for systolic and diastolic blood pressure readings. KDE plots provide a \"smooth curve\" over histogram data.\n",
    "\n",
    "Before attempting to run the notebook:\n",
    "\n",
    "- Make sure the variables defined in \"config.ipynb\" are set correctly\n",
    "- Set the reporting date range and export options in the first code cell"
   ]
  },
  {
   "cell_type": "code",
   "execution_count": null,
   "metadata": {},
   "outputs": [],
   "source": [
    "from datetime import date, datetime, timedelta\n",
    "\n",
    "# Reporting date range\n",
    "start = date(1900, 1, 1)\n",
    "end = datetime.now() + timedelta(days=1)\n",
    "\n",
    "# Export format for the chart:\n",
    "# PNG     - export as PNG image\n",
    "# PDF     - export as PDF file\n",
    "# <blank> - do not export\n",
    "chart_export_format = \"PNG\""
   ]
  },
  {
   "cell_type": "code",
   "execution_count": null,
   "metadata": {},
   "outputs": [],
   "source": [
    "%run ../api.ipynb\n",
    "%run ../config.ipynb\n",
    "%run ../export.ipynb"
   ]
  },
  {
   "cell_type": "code",
   "execution_count": null,
   "metadata": {},
   "outputs": [],
   "source": [
    "# Log in to the service, get the person ID and retrieve the data\n",
    "token = authenticate(url, username, password)\n",
    "person_id = get_person_id(url, token, firstnames, surname)\n",
    "df = get_daily_blood_pressure_measurements(url, token, person_id, start, end)\n",
    "\n",
    "# Preview the data\n",
    "df.head()"
   ]
  },
  {
   "cell_type": "code",
   "execution_count": null,
   "metadata": {},
   "outputs": [],
   "source": [
    "import matplotlib.pyplot as plt\n",
    "import seaborn as sns\n",
    "from pathlib import Path\n",
    "\n",
    "# Plot KDE for systolic and diastolic readings\n",
    "plt.figure(figsize=(10, 5))\n",
    "sns.kdeplot(df[\"systolic\"], fill=True, color=\"red\", label=\"Systolic\")\n",
    "sns.kdeplot(df[\"diastolic\"], fill=True, color=\"blue\", label=\"Diastolic\")\n",
    "\n",
    "# Set the chart titles and labels\n",
    "plt.title(\"KDE Plot of Blood Pressure Readings\")\n",
    "plt.xlabel(\"Blood Pressure (mmHg)\")\n",
    "plt.ylabel(\"Density\")\n",
    "plt.legend()\n",
    "plt.grid(True)\n",
    "\n",
    "# Export to PNG or PDF, if required\n",
    "export_chart(\"blood_pressure_kde_plot\", None, chart_export_format)\n",
    "\n",
    "# Show the chart\n",
    "plt.show()"
   ]
  },
  {
   "attachments": {},
   "cell_type": "markdown",
   "metadata": {},
   "source": [
    "# KDE Plots Versus Histograms\n",
    "\n",
    "The next code cell provides a demonstration of the difference between a KDE plot and histogram of the data\n"
   ]
  },
  {
   "cell_type": "code",
   "execution_count": null,
   "metadata": {},
   "outputs": [],
   "source": [
    "plt.figure(figsize=(14, 5))\n",
    "\n",
    "# Histogram\n",
    "plt.subplot(1, 2, 1)\n",
    "sns.histplot(df[\"systolic\"], bins=10, color=\"red\", edgecolor=\"black\", label=\"Systolic\")\n",
    "sns.histplot(df[\"diastolic\"], bins=10, color=\"blue\", edgecolor=\"black\", label=\"Diastolic\")\n",
    "plt.title(\"Histogram of Systolic Readings\")\n",
    "plt.xlabel(\"Blood Pressure (mmHg)\")\n",
    "plt.ylabel(\"Count\")\n",
    "plt.legend()\n",
    "\n",
    "# KDE\n",
    "plt.subplot(1, 2, 2)\n",
    "sns.kdeplot(df[\"systolic\"], fill=True, color=\"red\", label=\"Systolic\")\n",
    "sns.kdeplot(df[\"diastolic\"], fill=True, color=\"blue\", label=\"Diastolic\")\n",
    "plt.title(\"KDE Plot of Systolic Readings\")\n",
    "plt.xlabel(\"Blood Pressure (mmHg)\")\n",
    "plt.ylabel(\"Density\")\n",
    "plt.legend()\n",
    "\n",
    "plt.tight_layout()\n",
    "plt.show()\n"
   ]
  }
 ],
 "metadata": {
  "kernelspec": {
   "display_name": "venv",
   "language": "python",
   "name": "python3"
  },
  "language_info": {
   "codemirror_mode": {
    "name": "ipython",
    "version": 3
   },
   "file_extension": ".py",
   "mimetype": "text/x-python",
   "name": "python",
   "nbconvert_exporter": "python",
   "pygments_lexer": "ipython3",
   "version": "3.11.4"
  },
  "orig_nbformat": 4,
  "vscode": {
   "interpreter": {
    "hash": "4a95780be54ed74a6e7dfb7f5a83a5e6b3ac554c468991dab9a2c664835b4799"
   }
  }
 },
 "nbformat": 4,
 "nbformat_minor": 2
}
