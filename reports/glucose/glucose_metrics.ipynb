{
 "cells": [
  {
   "attachments": {},
   "cell_type": "markdown",
   "id": "7e970cd3",
   "metadata": {},
   "source": [
    "# Glucose Metrics\n",
    "\n",
    "This notebook calculates all-time and daily glucose metrics from blood glucose readings held in the Health Tracker database and retrieved via the Health Tracker Web Service.\n",
    "\n",
    "Before attempting to run the notebook:\n",
    "\n",
    "- Make sure the variables defined in \"config.ipynb\" are set correctly\n",
    "- Set the reporting date range and export options in the first code cell"
   ]
  },
  {
   "cell_type": "code",
   "execution_count": null,
   "id": "e30b908f",
   "metadata": {},
   "outputs": [],
   "source": [
    "from datetime import date, datetime, timedelta\n",
    "\n",
    "# Reporting date range\n",
    "start = date(1900, 1, 1)\n",
    "end = datetime.now() + timedelta(days=1)\n",
    "\n",
    "# Whether to export the data to a spreadsheet\n",
    "export_spreadsheet = True\n",
    "\n",
    "# Export format for the chart:\n",
    "# PNG     - export as PNG image\n",
    "# PDF     - export as PDF file\n",
    "# <blank> - do not export\n",
    "chart_export_format = \"PNG\""
   ]
  },
  {
   "cell_type": "code",
   "execution_count": null,
   "id": "93295929",
   "metadata": {},
   "outputs": [],
   "source": [
    "# Define range limits\n",
    "tar_1_lower = 10.1\n",
    "tar_1_upper = 13.9\n",
    "tar_2_lower = 14.0\n",
    "tbr_1_lower = 3.0\n",
    "tbr_1_upper = 3.8\n",
    "\n",
    "# Metrics dictionary keys and dataframe column titles\n",
    "MEAN = \"Mean Glucose (mmol/L)\"\n",
    "SD = \"SD (mmol/L)\"\n",
    "CV = \"CV (%)\"\n",
    "GMI = \"GMI (%)\"\n",
    "TIR = \"Time in Range %\"\n",
    "TAR_1 = f\"TAR ({tar_1_lower}–{tar_1_upper}) %\"\n",
    "TAR_2 = f\"TAR (>= {tar_2_lower}) %\"\n",
    "TBR_1 = f\"TBR ({tbr_1_lower}–{tbr_1_upper}) %\"\n",
    "TBR_2 = f\"TBR (< {tbr_1_lower}) %\"\n"
   ]
  },
  {
   "cell_type": "code",
   "execution_count": null,
   "id": "75b79197",
   "metadata": {},
   "outputs": [],
   "source": [
    "%run ../api.ipynb\n",
    "%run ../config.ipynb\n",
    "%run ../export.ipynb"
   ]
  },
  {
   "cell_type": "code",
   "execution_count": null,
   "id": "78365216",
   "metadata": {},
   "outputs": [],
   "source": [
    "from datetime import date, datetime, timedelta\n",
    "\n",
    "# Retrieve all-time blood pressure readings\n",
    "start = date(1900, 1, 1)\n",
    "end = datetime.now() + timedelta(days=1)\n",
    "\n",
    "# Log in to the service, get the person ID and retrieve the blood pressure readings\n",
    "token = authenticate(url, username, password)\n",
    "person_id = get_person_id(url, token, firstnames, surname)\n",
    "df = get_blood_glucose_measurements(url, token, person_id, start, end)\n",
    "\n",
    "# Preview the data\n",
    "df.head()"
   ]
  },
  {
   "cell_type": "code",
   "execution_count": null,
   "id": "70c4dafe",
   "metadata": {},
   "outputs": [],
   "source": [
    "import pandas as pd\n",
    "import numpy as np\n",
    "\n",
    "\n",
    "def compute_metrics(measurements):\n",
    "    # Drop the grouping column, if present\n",
    "    measurements = measurements.drop(columns=\"date\", errors=\"ignore\")\n",
    "\n",
    "    # Calculate the mean, standard deviation and variance\n",
    "    mean_glucose = measurements[\"level\"].mean()\n",
    "    std_glucose = measurements[\"level\"].std()\n",
    "    cv = (std_glucose / mean_glucose) * 100 if mean_glucose else np.nan\n",
    "\n",
    "    # Calculate mean glucose level in mg/dL and the GMI\n",
    "    mean_mg_dl = mean_glucose * 18.0182\n",
    "    gmi = 3.31 + 0.02392 * mean_mg_dl\n",
    "\n",
    "    # Calculate the time in, above and below range\n",
    "    total = len(measurements)\n",
    "    tir = measurements[\"level\"].between(3.9, 10.0).sum() / total * 100\n",
    "    tar_1 = measurements[\"level\"].between(10.1, 13.9).sum() / total * 100\n",
    "    tar_2 = (measurements[\"level\"] >= 14.0).sum() / total * 100\n",
    "    tbr_1 = measurements[\"level\"].between(3.0, 3.8).sum() / total * 100\n",
    "    tbr_2 = (measurements[\"level\"] < 3.0).sum() / total * 100\n",
    "\n",
    "    # Create a dictionary of the metrics\n",
    "    metrics = {\n",
    "        MEAN: round(mean_glucose, 2),\n",
    "        SD: round(std_glucose, 2),\n",
    "        CV: round(cv, 1),\n",
    "        GMI: round(gmi, 2),\n",
    "        TIR: round(tir, 1),\n",
    "        TAR_1: round(tar_1, 1),\n",
    "        TAR_2: round(tar_2, 1),\n",
    "        TBR_1: round(tbr_1, 1),\n",
    "        TBR_2: round(tbr_2, 1),\n",
    "    }\n",
    "\n",
    "    # And return the metrics as a dataframe\n",
    "    return pd.Series(metrics)"
   ]
  },
  {
   "cell_type": "code",
   "execution_count": null,
   "id": "98363817",
   "metadata": {},
   "outputs": [],
   "source": [
    "import pandas as pd\n",
    "\n",
    "# Calculate all-time metrics\n",
    "all_time_metrics_df = compute_metrics(df)\n",
    "\n",
    "with pd.option_context(\"display.max_rows\", None,\n",
    "                       \"display.max_columns\", None,\n",
    "                       \"display.precision\", 3,\n",
    "                       ):\n",
    "    display(all_time_metrics_df)"
   ]
  },
  {
   "cell_type": "code",
   "execution_count": null,
   "id": "60d9b20f",
   "metadata": {},
   "outputs": [],
   "source": [
    "# Rename the date column to timestamp and sort the data \n",
    "df.rename(columns={ \"date\": \"timestamp\" }, inplace=True)\n",
    "df = df.sort_values(\"timestamp\")\n",
    "\n",
    "# Add a \"date\" column\n",
    "df[\"date\"] = df[\"timestamp\"].dt.date\n",
    "\n",
    "# Group by date and calculate daily metrics\n",
    "daily_metrics_df = (\n",
    "    df[[\"date\", \"level\"]]\n",
    "    .groupby(\"date\")\n",
    "    .apply(compute_metrics, include_groups=False)\n",
    ")\n",
    "\n",
    "# Preview the data\n",
    "daily_metrics_df.head()"
   ]
  },
  {
   "cell_type": "code",
   "execution_count": null,
   "id": "5b3850bf",
   "metadata": {},
   "outputs": [],
   "source": [
    "# Add a week column\n",
    "df[\"week\"] = df[\"timestamp\"].dt.to_period(\"W\").apply(lambda r: r.start_time.date())\n",
    "\n",
    "# Group by date and calculate weekly metrics\n",
    "weekly_metrics_df = (\n",
    "    df\n",
    "    .groupby(\"week\")\n",
    "    .apply(compute_metrics, include_groups=False)\n",
    ")\n",
    "\n",
    "# Preview the data\n",
    "weekly_metrics_df.head()"
   ]
  },
  {
   "cell_type": "code",
   "execution_count": null,
   "id": "7d569a47",
   "metadata": {},
   "outputs": [],
   "source": [
    "# Export the data to a spreadsheet\n",
    "if export_spreadsheet:\n",
    "    export_to_spreadsheet(\"glucose_metrics\", {\n",
    "        \"Daily\": daily_metrics_df,\n",
    "        \"Weekly\": weekly_metrics_df\n",
    "    })"
   ]
  },
  {
   "cell_type": "code",
   "execution_count": null,
   "id": "d2e9afd5",
   "metadata": {},
   "outputs": [],
   "source": [
    "import matplotlib.pyplot as plt\n",
    "import seaborn as sns\n",
    "\n",
    "# Plot the daily metrics\n",
    "plt.figure(figsize=(12, 7))\n",
    "sns.lineplot(data=daily_metrics_df, x=daily_metrics_df.index, y=MEAN)\n",
    "plt.axhline(10.0, color=\"red\", linestyle=\"--\", label=\"Upper Target\")\n",
    "plt.axhline(3.9, color=\"blue\", linestyle=\"--\", label=\"Lower Target\")\n",
    "\n",
    "# Set labels and titles\n",
    "plt.title(\"Daily Mean Glucose\")\n",
    "plt.ylabel(\"mmol/L\")\n",
    "plt.xlabel(\"Date\")\n",
    "plt.xticks(rotation=90)\n",
    "\n",
    "# Move the legend below the plot\n",
    "plt.legend(\n",
    "    loc=\"upper center\", \n",
    "    bbox_to_anchor=(0.5, -0.25), \n",
    "    ncol=2,\n",
    "    frameon=False\n",
    ")\n",
    "\n",
    "plt.tight_layout()\n",
    "\n",
    "# Export to PNG or PDF, if required\n",
    "export_chart(\"glucose_metrics\", \"Daily\", chart_export_format)\n",
    "\n",
    "# Show the plot\n",
    "plt.show()\n"
   ]
  }
 ],
 "metadata": {
  "kernelspec": {
   "display_name": "venv",
   "language": "python",
   "name": "python3"
  },
  "language_info": {
   "codemirror_mode": {
    "name": "ipython",
    "version": 3
   },
   "file_extension": ".py",
   "mimetype": "text/x-python",
   "name": "python",
   "nbconvert_exporter": "python",
   "pygments_lexer": "ipython3",
   "version": "3.11.4"
  },
  "vscode": {
   "interpreter": {
    "hash": "4a95780be54ed74a6e7dfb7f5a83a5e6b3ac554c468991dab9a2c664835b4799"
   }
  }
 },
 "nbformat": 4,
 "nbformat_minor": 5
}
