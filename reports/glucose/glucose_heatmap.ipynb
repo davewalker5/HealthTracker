{
 "cells": [
  {
   "attachments": {},
   "cell_type": "markdown",
   "id": "7e970cd3",
   "metadata": {},
   "source": [
    "# Glucose Heatmap\n",
    "\n",
    "This notebook generates a heatmap showing glucose levels by time of day from blood glucose readings held in the Health Tracker database and retrieved via the Health Tracker Web Service.\n",
    "\n",
    "Before attempting to run the notebook:\n",
    "\n",
    "- Make sure the variables defined in \"config.ipynb\" are set correctly\n",
    "- Set the reporting date range and export options in the first code cell"
   ]
  },
  {
   "cell_type": "code",
   "execution_count": null,
   "id": "e30b908f",
   "metadata": {},
   "outputs": [],
   "source": [
    "from datetime import date, datetime, timedelta\n",
    "\n",
    "# Reporting date range\n",
    "start = date(1900, 1, 1)\n",
    "end = datetime.now() + timedelta(days=1)\n",
    "\n",
    "# Export format for the chart:\n",
    "# PNG     - export as PNG image\n",
    "# PDF     - export as PDF file\n",
    "# <blank> - do not export\n",
    "chart_export_format = \"PNG\""
   ]
  },
  {
   "cell_type": "code",
   "execution_count": null,
   "id": "93295929",
   "metadata": {},
   "outputs": [],
   "source": [
    "# Window size for smoothing the data\n",
    "window = 5"
   ]
  },
  {
   "cell_type": "code",
   "execution_count": null,
   "id": "75b79197",
   "metadata": {},
   "outputs": [],
   "source": [
    "%run ../api.ipynb\n",
    "%run ../config.ipynb\n",
    "%run ../export.ipynb"
   ]
  },
  {
   "cell_type": "code",
   "execution_count": null,
   "id": "78365216",
   "metadata": {},
   "outputs": [],
   "source": [
    "# Log in to the service, get the person ID and retrieve the blood pressure readings\n",
    "token = authenticate(url, username, password)\n",
    "person_id = get_person_id(url, token, firstnames, surname)\n",
    "df = get_blood_glucose_measurements(url, token, person_id, start, end)\n",
    "\n",
    "# Preview the data\n",
    "df.head()"
   ]
  },
  {
   "cell_type": "code",
   "execution_count": null,
   "id": "723712b8",
   "metadata": {},
   "outputs": [],
   "source": [
    "# Rename the existing date column, that contains a date and time and round the timestamp to the\n",
    "# nearest 5 minutes to align the data (failing to do this means the pivot won\"t work well when\n",
    "# plotted)\n",
    "df.rename(columns={ \"date\": \"timestamp\" }, inplace=True)\n",
    "df[\"timestamp\"] = df[\"timestamp\"].dt.round(\"5min\")\n",
    "\n",
    "# Extract time of day and date\n",
    "df[\"date\"] = df[\"timestamp\"].dt.date\n",
    "df[\"time_str\"] = df[\"timestamp\"].dt.strftime(\"%H:%M\")\n",
    "\n",
    "# Use a rolling window to smooth the data\n",
    "df[\"level_smooth\"] = df[\"level\"].rolling(window).mean()\n",
    "\n",
    "# Pivot the data and sort into proper time order\n",
    "heatmap_data = df.pivot(index=\"date\", columns=\"time_str\", values=\"level_smooth\").sort_index()\n",
    "\n",
    "# Preview the data\n",
    "heatmap_data.head()"
   ]
  },
  {
   "cell_type": "code",
   "execution_count": null,
   "id": "34c9df17",
   "metadata": {},
   "outputs": [],
   "source": [
    "import seaborn as sns\n",
    "import matplotlib.pyplot as plt\n",
    "\n",
    "# Plot the heatmap\n",
    "plt.figure(figsize=(12, 10))\n",
    "ax = sns.heatmap(heatmap_data, cmap=\"coolwarm\", center=6, cbar_kws={\"label\": \"Glucose (mmol/L)\"})\n",
    "\n",
    "# Get current tick labels\n",
    "xticks = ax.get_xticks()\n",
    "xticklabels = ax.get_xticklabels()\n",
    "\n",
    "# Show every other one to avoid clutter\n",
    "ax.set_xticks(xticks[::2])\n",
    "ax.set_xticklabels([label.get_text() for label in xticklabels[::2]], rotation=90)\n",
    "\n",
    "# Set chart titles\n",
    "plt.title(\"Glucose Heatmap by Time of Day\")\n",
    "plt.xlabel(\"Time of Day\")\n",
    "plt.ylabel(\"Date\")\n",
    "plt.xticks(rotation=90)\n",
    "plt.tight_layout()\n",
    "\n",
    "# Export to PNG or PDF, if required\n",
    "export_chart(\"glucose_heatmap\", None, chart_export_format)\n",
    "\n",
    "# Show the chart\n",
    "plt.show()\n"
   ]
  }
 ],
 "metadata": {
  "kernelspec": {
   "display_name": "venv",
   "language": "python",
   "name": "python3"
  },
  "language_info": {
   "codemirror_mode": {
    "name": "ipython",
    "version": 3
   },
   "file_extension": ".py",
   "mimetype": "text/x-python",
   "name": "python",
   "nbconvert_exporter": "python",
   "pygments_lexer": "ipython3",
   "version": "3.11.4"
  },
  "vscode": {
   "interpreter": {
    "hash": "4a95780be54ed74a6e7dfb7f5a83a5e6b3ac554c468991dab9a2c664835b4799"
   }
  }
 },
 "nbformat": 4,
 "nbformat_minor": 5
}
