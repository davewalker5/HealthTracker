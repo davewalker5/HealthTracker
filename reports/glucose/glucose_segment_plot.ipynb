{
 "cells": [
  {
   "attachments": {},
   "cell_type": "markdown",
   "metadata": {},
   "source": [
    "# Glucose Segment Plot\n",
    "\n",
    "This notebook retrieves a \"segment\" of data, defined as the points between two timestamps, and plots a simple line chart of the data with the target range on the chart highlighted.\n",
    "\n",
    "Before attempting to run the notebook:\n",
    "\n",
    "- Make sure the variables defined in \"config.ipynb\" are set correctly\n",
    "- Set the reporting date range and export options in the first code cell"
   ]
  },
  {
   "cell_type": "code",
   "execution_count": null,
   "metadata": {},
   "outputs": [],
   "source": [
    "from datetime import datetime\n",
    "\n",
    "# Reporting date range\n",
    "start = datetime(2025, 1, 1, 0, 0, 0)\n",
    "end = datetime(2025, 1, 1, 0, 0, 0)\n",
    "\n",
    "# Report title\n",
    "report_title = \"\"\n",
    "\n",
    "# Whether to export the data to a spreadsheet\n",
    "export_spreadsheet = True\n",
    "\n",
    "# Export format for the chart:\n",
    "# PNG     - export as PNG image\n",
    "# PDF     - export as PDF file\n",
    "# <blank> - do not export\n",
    "chart_export_format = \"PNG\""
   ]
  },
  {
   "cell_type": "code",
   "execution_count": null,
   "metadata": {},
   "outputs": [],
   "source": [
    "%run ../api.ipynb\n",
    "%run ../config.ipynb\n",
    "%run ../export.ipynb"
   ]
  },
  {
   "cell_type": "code",
   "execution_count": null,
   "metadata": {},
   "outputs": [],
   "source": [
    "# Log in to the service, get the person ID and retrieve the data\n",
    "token = authenticate(url, username, password)\n",
    "person_id = get_person_id(url, token, firstnames, surname)\n",
    "df = get_blood_glucose_measurements(url, token, person_id, start, end)\n",
    "\n",
    "# Preview the data\n",
    "df.head()"
   ]
  },
  {
   "cell_type": "code",
   "execution_count": null,
   "metadata": {},
   "outputs": [],
   "source": [
    "# Calculate minutes from the first point\n",
    "df[\"minutes\"] = (df[\"date\"] - df[\"date\"].iloc[0]).dt.total_seconds() / 60\n",
    "\n",
    "# Preview the data\n",
    "df.head()"
   ]
  },
  {
   "cell_type": "code",
   "execution_count": null,
   "metadata": {},
   "outputs": [],
   "source": [
    "from pathvalidate import sanitize_filepath\n",
    "\n",
    "# Prepend the start timestamp onto the report to give the basis of the export file\n",
    "timestamp = start.strftime(\"%Y-%m-%d %H-%M\")\n",
    "export_file_name = f\"{timestamp} {report_title}\"\n",
    "\n",
    "# Now sanitise it\n",
    "export_file_name = sanitize_filepath(export_file_name)\n",
    "\n",
    "# Export the data to a spreadsheet\n",
    "if export_spreadsheet:\n",
    "    export_to_spreadsheet(export_file_name, { export_file_name: df })"
   ]
  },
  {
   "cell_type": "code",
   "execution_count": null,
   "metadata": {},
   "outputs": [],
   "source": [
    "import matplotlib.pyplot as plt\n",
    "\n",
    "# Plot setup\n",
    "plt.figure(figsize=(12, 6))\n",
    "\n",
    "# Plot daily mean glucose\n",
    "plt.plot(df[\"minutes\"], df[\"level\"], label=\"Glucose (mmol/L)\")\n",
    "\n",
    "# Add target range band: 3.9–10.0 mmol/L\n",
    "plt.axhspan(3.9, 10.0, color=\"green\", alpha=0.1, label=\"Target Range (3.9–10.0 mmol/L)\")\n",
    "\n",
    "# Construct the plot title\n",
    "timestamp = start.strftime(\"%Y-%m-%d %H:%M\")\n",
    "title = f\"{report_title} - {timestamp}\"\n",
    "\n",
    "# Formatting\n",
    "plt.title(title)\n",
    "plt.xlabel(\"Minutes\")\n",
    "plt.ylabel(\"Glucose (mmol/L)\")\n",
    "plt.xticks(rotation=45)\n",
    "plt.grid(True)\n",
    "\n",
    "# Legend below chart\n",
    "plt.legend(loc=\"upper center\", bbox_to_anchor=(0.5, -0.25), ncol=2)\n",
    "plt.tight_layout()\n",
    "\n",
    "# Export to PNG or PDF, if required\n",
    "export_chart(export_file_name, None, chart_export_format)\n",
    "\n",
    "# Show the plot\n",
    "plt.show()\n"
   ]
  }
 ],
 "metadata": {
  "kernelspec": {
   "display_name": "venv",
   "language": "python",
   "name": "python3"
  },
  "language_info": {
   "codemirror_mode": {
    "name": "ipython",
    "version": 3
   },
   "file_extension": ".py",
   "mimetype": "text/x-python",
   "name": "python",
   "nbconvert_exporter": "python",
   "pygments_lexer": "ipython3",
   "version": "3.13.2"
  },
  "orig_nbformat": 4,
  "vscode": {
   "interpreter": {
    "hash": "4a95780be54ed74a6e7dfb7f5a83a5e6b3ac554c468991dab9a2c664835b4799"
   }
  }
 },
 "nbformat": 4,
 "nbformat_minor": 2
}
