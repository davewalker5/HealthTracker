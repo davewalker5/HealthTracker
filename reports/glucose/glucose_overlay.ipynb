{
 "cells": [
  {
   "attachments": {},
   "cell_type": "markdown",
   "id": "7e970cd3",
   "metadata": {},
   "source": [
    "# Daily Glucose Overlay\n",
    "\n",
    "This notebook generates daily glucose overlay charts from blood glucose readings held in the Health Tracker database and retrieved via the Health Tracker Web Service:\n",
    "\n",
    "- A daily overlay or \"spaghetti\" chart with one line per day\n",
    "- A \"percentile\" chart shading between upper and lower percentiles\n",
    "\n",
    "Both charts include the median line.\n",
    "\n",
    "Before attempting to run the notebook:\n",
    "\n",
    "- Make sure the variables defined in \"config.ipynb\" are set correctly\n",
    "- Set the reporting date range and export options in the first code cell"
   ]
  },
  {
   "cell_type": "code",
   "execution_count": null,
   "id": "e30b908f",
   "metadata": {},
   "outputs": [],
   "source": [
    "from datetime import date, timedelta, datetime\n",
    "\n",
    "# Retrieve all-time blood glucose readings\n",
    "start = date(2025, 8, 4)\n",
    "end = start + timedelta(days=11)\n",
    "\n",
    "# Exclusion date ranges - this should be a list of tuples in which each tuple has two\n",
    "# members, a start date and time and end date and time in that order\n",
    "exclusions = [\n",
    "    (datetime(2025, 8, 6, 6, 52, 0), datetime(2025, 8, 6, 23, 59, 59)),\n",
    "    (datetime(2025, 8, 12, 15, 7, 0), datetime(2025, 8, 12, 16, 52, 59))\n",
    "]\n",
    "\n",
    "# Export format for the chart:\n",
    "# PNG     - export as PNG image\n",
    "# PDF     - export as PDF file\n",
    "# <blank> - do not export\n",
    "chart_export_format = \"PNG\""
   ]
  },
  {
   "cell_type": "code",
   "execution_count": null,
   "id": "93295929",
   "metadata": {},
   "outputs": [],
   "source": [
    "# Set the percentile limits\n",
    "lower_percentile = 0\n",
    "upper_percentile = 100\n",
    "\n",
    "# Set the Y-axis limits\n",
    "y_min = 3\n",
    "y_max = 15"
   ]
  },
  {
   "cell_type": "code",
   "execution_count": null,
   "id": "75b79197",
   "metadata": {},
   "outputs": [],
   "source": [
    "%run ../api.ipynb\n",
    "%run ../config.ipynb\n",
    "%run ../export.ipynb"
   ]
  },
  {
   "cell_type": "code",
   "execution_count": null,
   "id": "78365216",
   "metadata": {},
   "outputs": [],
   "source": [
    "# Log in to the service, get the person ID and retrieve the data\n",
    "token = authenticate(url, username, password)\n",
    "person_id = get_person_id(url, token, firstnames, surname)\n",
    "df = get_blood_glucose_measurements(url, token, person_id, start, end)\n",
    "\n",
    "# Remove any excluded ranges\n",
    "df = remove_records_for_date_ranges(df, exclusions)\n",
    "\n",
    "# Preview the data\n",
    "df.head()"
   ]
  },
  {
   "cell_type": "code",
   "execution_count": null,
   "id": "c2c3edb8",
   "metadata": {},
   "outputs": [],
   "source": [
    "# Rename the existing date column, that contains a date and time and round the timestamp to the\n",
    "# nearest 5 minutes to align the data (failing to do this means the pivot won\"t work well when\n",
    "# plotted)\n",
    "df.rename(columns={ \"date\": \"timestamp\" }, inplace=True)\n",
    "df[\"timestamp\"] = df[\"timestamp\"].dt.round(\"5min\")\n",
    "\n",
    "# Create columns for date and time-of-day\n",
    "df[\"date\"] = df[\"timestamp\"].dt.date\n",
    "df[\"time\"] = df[\"timestamp\"].dt.strftime(\"%H:%M\")\n",
    "\n",
    "# Pivot the data where rows are the time of day and columns are the date\n",
    "pivot_df = df.pivot(index=\"time\", columns=\"date\", values=\"level\")\n",
    "\n",
    "# Preview the data\n",
    "pivot_df.head()"
   ]
  },
  {
   "cell_type": "code",
   "execution_count": null,
   "id": "7228663b",
   "metadata": {},
   "outputs": [],
   "source": [
    "# Calculate the median line\n",
    "median_glucose = pivot_df.median(axis=1)\n",
    "\n",
    "# Calculate percentile bands for the shaded plot\n",
    "q10 = pivot_df.quantile(lower_percentile / 100, axis=1)\n",
    "q90 = pivot_df.quantile(upper_percentile / 100, axis=1)"
   ]
  },
  {
   "cell_type": "code",
   "execution_count": null,
   "id": "7432600b",
   "metadata": {},
   "outputs": [],
   "source": [
    "import pandas as pd\n",
    "import matplotlib.pyplot as plt\n",
    "\n",
    "# Plot a spaghetti plot in which each line is 1 day\n",
    "ax = pivot_df.plot(figsize=(12, 8), legend=False, alpha=0.7, linewidth=1)\n",
    "\n",
    "# Add the median line\n",
    "plt.plot(median_glucose.index, median_glucose.values, color=\"black\", label=\"Median\", linewidth=2)\n",
    "\n",
    "# Add title and labels\n",
    "ax.set_title(\"Daily Glucose Overlay\")\n",
    "ax.set_xlabel(\"Time of Day\")\n",
    "ax.set_ylabel(\"Glucose (mmol/L)\")\n",
    "plt.ylim(y_min, y_max)\n",
    "plt.xticks(rotation=45)\n",
    "plt.grid(True)\n",
    "\n",
    "# Create a legend below the plot\n",
    "plt.legend(\n",
    "    title=\"Date\",\n",
    "    bbox_to_anchor=(0.5, -0.2),\n",
    "    loc=\"upper center\",\n",
    "    ncol=6,\n",
    "    fontsize=\"small\",\n",
    "    title_fontsize=\"small\"\n",
    ")\n",
    "\n",
    "plt.tight_layout()\n",
    "\n",
    "# Export to PNG or PDF, if required\n",
    "export_chart(\"glucose_overlay\", \"Daily\", chart_export_format)\n",
    "\n",
    "plt.show()\n"
   ]
  },
  {
   "cell_type": "code",
   "execution_count": null,
   "id": "bb169e68",
   "metadata": {},
   "outputs": [],
   "source": [
    "import pandas as pd\n",
    "import matplotlib.pyplot as plt\n",
    "\n",
    "# Set x-ticks to every hour (12 x 5 minutes = 60 minutes = 1 hour)\n",
    "xticks_to_show = pivot_df.index[::12]\n",
    "\n",
    "# Shade between the percentiles\n",
    "plt.figure(figsize=(12, 8))\n",
    "percentile_label = f\"{lower_percentile} - {upper_percentile} Percentile\"\n",
    "plt.fill_between(q10.index, q10, q90, color=\"lightblue\", alpha=0.7, label=percentile_label)\n",
    "\n",
    "# Add the median line\n",
    "plt.plot(median_glucose.index, median_glucose.values, color=\"black\", label=\"Median\", linewidth=1)\n",
    "\n",
    "# Add title and labels\n",
    "plt.title(\"Daily Glucose Overlay\")\n",
    "plt.xlabel(\"Time of Day\")\n",
    "plt.ylabel(\"Glucose (mmol/L)\")\n",
    "plt.ylim(y_min, y_max)\n",
    "plt.xticks(ticks=xticks_to_show, rotation=90)\n",
    "plt.grid(True)\n",
    "\n",
    "# Create a legend below the plot\n",
    "plt.legend(\n",
    "    title=\"Date\",\n",
    "    bbox_to_anchor=(0.5, -0.2),\n",
    "    loc=\"upper center\",\n",
    "    ncol=6,\n",
    "    fontsize=\"small\",\n",
    "    title_fontsize=\"small\"\n",
    ")\n",
    "\n",
    "plt.tight_layout()\n",
    "\n",
    "# Export to PNG or PDF, if required\n",
    "export_chart(\"glucose_overlay\", \"Percentile\", chart_export_format)\n",
    "\n",
    "plt.show()\n"
   ]
  }
 ],
 "metadata": {
  "kernelspec": {
   "display_name": "venv (3.11.4)",
   "language": "python",
   "name": "python3"
  },
  "language_info": {
   "codemirror_mode": {
    "name": "ipython",
    "version": 3
   },
   "file_extension": ".py",
   "mimetype": "text/x-python",
   "name": "python",
   "nbconvert_exporter": "python",
   "pygments_lexer": "ipython3",
   "version": "3.11.4"
  }
 },
 "nbformat": 4,
 "nbformat_minor": 5
}
