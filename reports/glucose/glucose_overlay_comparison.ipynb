{
 "cells": [
  {
   "attachments": {},
   "cell_type": "markdown",
   "id": "7e970cd3",
   "metadata": {},
   "source": [
    "# Daily Glucose Overlay\n",
    "\n",
    "This notebook generates daily glucose overlay charts from blood glucose readings held in the Health Tracker database and retrieved via the Health Tracker Web Service:\n",
    "\n",
    "- The median line\n",
    "- A \"percentile\" chart shading between upper and lower percentiles\n",
    "\n",
    "This is done for two date ranges and the data is plotted for each on the same axes for comparison purposes.\n",
    "\n",
    "Before attempting to run the notebook:\n",
    "\n",
    "- Make sure the variables defined in \"config.ipynb\" are set correctly\n",
    "- Set the reporting date range and export options in the first code cell"
   ]
  },
  {
   "cell_type": "code",
   "execution_count": null,
   "id": "e30b908f",
   "metadata": {},
   "outputs": [],
   "source": [
    "from datetime import datetime, timedelta\n",
    "\n",
    "# Reporting dates for the first segment of data\n",
    "start_range_one = datetime(2025, 1, 1, 0, 0, 0)\n",
    "end_range_one = start_range_one + timedelta(days=11)\n",
    "\n",
    "# Reporting dates for the second segment of data\n",
    "start_range_two = datetime(2025, 1, 1, 0, 0, 0)\n",
    "end_range_two = start_range_two + timedelta(days=11)\n",
    "\n",
    "# Export format for the chart:\n",
    "# PNG     - export as PNG image\n",
    "# PDF     - export as PDF file\n",
    "# <blank> - do not export\n",
    "chart_export_format = \"PNG\""
   ]
  },
  {
   "cell_type": "code",
   "execution_count": null,
   "id": "93295929",
   "metadata": {},
   "outputs": [],
   "source": [
    "# # Set the percentile limits\n",
    "# lower_percentile = 10\n",
    "# upper_percentile = 90\n",
    "error = 0.1\n",
    "\n",
    "# Set the Y-axis limits\n",
    "y_min = 3\n",
    "y_max = 15"
   ]
  },
  {
   "cell_type": "code",
   "execution_count": null,
   "id": "75b79197",
   "metadata": {},
   "outputs": [],
   "source": [
    "%run ../api.ipynb\n",
    "%run ../config.ipynb\n",
    "%run ../export.ipynb"
   ]
  },
  {
   "cell_type": "code",
   "execution_count": null,
   "id": "78365216",
   "metadata": {},
   "outputs": [],
   "source": [
    "# Log in to the service, get the person ID and retrieve the data\n",
    "token = authenticate(url, username, password)\n",
    "person_id = get_person_id(url, token, firstnames, surname)\n",
    "df_range_one = get_blood_glucose_measurements(url, token, person_id, start_range_one, end_range_one)\n",
    "df_range_two = get_blood_glucose_measurements(url, token, person_id, start_range_two, end_range_two)\n",
    "\n",
    "# Preview the data\n",
    "df_range_one.head()"
   ]
  },
  {
   "cell_type": "code",
   "execution_count": null,
   "id": "c2c3edb8",
   "metadata": {},
   "outputs": [],
   "source": [
    "# Rename the existing date column, that contains a date and time and round the timestamp to the\n",
    "# nearest 5 minutes to align the data (failing to do this means the pivot won\"t work well when\n",
    "# plotted)\n",
    "df_range_one.rename(columns={ \"date\": \"timestamp\" }, inplace=True)\n",
    "df_range_one[\"timestamp\"] = df_range_one[\"timestamp\"].dt.round(\"5min\")\n",
    "\n",
    "# Create columns for date and time-of-day\n",
    "df_range_one[\"date\"] = df_range_one[\"timestamp\"].dt.date\n",
    "df_range_one[\"time\"] = df_range_one[\"timestamp\"].dt.strftime(\"%H:%M\")\n",
    "\n",
    "# Pivot the data where rows are the time of day and columns are the date\n",
    "pivot_df_range_one = df_range_one.pivot(index=\"time\", columns=\"date\", values=\"level\")\n",
    "\n",
    "# Preview the data\n",
    "pivot_df_range_one.head()"
   ]
  },
  {
   "cell_type": "code",
   "execution_count": null,
   "id": "fb174312",
   "metadata": {},
   "outputs": [],
   "source": [
    "# Rename the existing date column, that contains a date and time and round the timestamp to the\n",
    "# nearest 5 minutes to align the data (failing to do this means the pivot won\"t work well when\n",
    "# plotted)\n",
    "df_range_two.rename(columns={ \"date\": \"timestamp\" }, inplace=True)\n",
    "df_range_two[\"timestamp\"] = df_range_two[\"timestamp\"].dt.round(\"5min\")\n",
    "\n",
    "# Create columns for date and time-of-day\n",
    "df_range_two[\"date\"] = df_range_two[\"timestamp\"].dt.date\n",
    "df_range_two[\"time\"] = df_range_two[\"timestamp\"].dt.strftime(\"%H:%M\")\n",
    "\n",
    "# Pivot the data where rows are the time of day and columns are the date\n",
    "pivot_df_range_two = df_range_two.pivot(index=\"time\", columns=\"date\", values=\"level\")\n",
    "\n",
    "# Preview the data\n",
    "pivot_df_range_two.head()"
   ]
  },
  {
   "cell_type": "code",
   "execution_count": null,
   "id": "7228663b",
   "metadata": {},
   "outputs": [],
   "source": [
    "# Calculate the median lines\n",
    "median_glucose_range_one = pivot_df_range_one.median(axis=1)\n",
    "median_glucose_range_two = pivot_df_range_two.median(axis=1)\n",
    "\n",
    "# # Calculate percentile bands for the shaded plot for range one\n",
    "upper_range_one = median_glucose_range_one * (1.0 + error)\n",
    "lower_range_one = median_glucose_range_one * (1.0 - error)\n",
    "\n",
    "# # Calculate percentile bands for the shaded plot for range one\n",
    "upper_range_two = median_glucose_range_two * (1.0 + error)\n",
    "lower_range_two = median_glucose_range_two * (1.0 - error)"
   ]
  },
  {
   "cell_type": "code",
   "execution_count": null,
   "id": "bb169e68",
   "metadata": {},
   "outputs": [],
   "source": [
    "import pandas as pd\n",
    "import matplotlib.pyplot as plt\n",
    "\n",
    "# Set x-ticks to every hour (12 x 5 minutes = 60 minutes = 1 hour)\n",
    "xticks_to_show = pivot_df_range_one.index[::12]\n",
    "\n",
    "# Create the chart\n",
    "plt.figure(figsize=(12, 8))\n",
    "\n",
    "# # Shade the error range for range one\n",
    "plt.fill_between(median_glucose_range_one.index, lower_range_one, upper_range_one, color=\"lightblue\", alpha=0.4)\n",
    "\n",
    "# # Shade between the percentiles for range 2\n",
    "plt.fill_between(median_glucose_range_two.index, lower_range_two, upper_range_two, color=\"orange\", alpha=0.4)\n",
    "\n",
    "# Add the median lines\n",
    "plt.plot(median_glucose_range_one.index, median_glucose_range_one.values, color=\"black\", label=\"Median Range 1\", linewidth=1)\n",
    "plt.plot(median_glucose_range_two.index, median_glucose_range_two.values, color=\"red\", label=\"Median Range 2\", linewidth=1)\n",
    "\n",
    "# Add title and labels\n",
    "plt.title(\"Daily Glucose Overlay\")\n",
    "plt.xlabel(\"Time of Day\")\n",
    "plt.ylabel(\"Glucose (mmol/L)\")\n",
    "plt.ylim(y_min, y_max)\n",
    "plt.xticks(ticks=xticks_to_show, rotation=90)\n",
    "plt.grid(True)\n",
    "\n",
    "# Create a legend_range_one below the plot\n",
    "plt.legend(\n",
    "    title=\"Date\",\n",
    "    bbox_to_anchor=(0.5, -0.2),\n",
    "    loc=\"upper center\",\n",
    "    ncol=6,\n",
    "    fontsize=\"small\",\n",
    "    title_fontsize=\"small\"\n",
    ")\n",
    "\n",
    "plt.tight_layout()\n",
    "\n",
    "# Export to PNG or PDF, if required\n",
    "export_chart(\"glucose_overlay_comparison\", \"Percentile\", chart_export_format)\n",
    "\n",
    "plt.show()\n"
   ]
  }
 ],
 "metadata": {
  "kernelspec": {
   "display_name": "venv",
   "language": "python",
   "name": "python3"
  },
  "language_info": {
   "codemirror_mode": {
    "name": "ipython",
    "version": 3
   },
   "file_extension": ".py",
   "mimetype": "text/x-python",
   "name": "python",
   "nbconvert_exporter": "python",
   "pygments_lexer": "ipython3",
   "version": "3.13.2"
  },
  "vscode": {
   "interpreter": {
    "hash": "4a95780be54ed74a6e7dfb7f5a83a5e6b3ac554c468991dab9a2c664835b4799"
   }
  }
 },
 "nbformat": 4,
 "nbformat_minor": 5
}
