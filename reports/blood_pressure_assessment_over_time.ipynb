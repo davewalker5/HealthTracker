{
 "cells": [
  {
   "attachments": {},
   "cell_type": "markdown",
   "metadata": {},
   "source": [
    "# Blood Pressure Assessment Over Time\n",
    "\n",
    "This notebook generates bar charts showing the frequency of each blood pressure assessment category per month and year.\n",
    "\n",
    "Before attempting to run the notebook:\n",
    "\n",
    "- Make sure the variables defined in \"config.ipynb\" are set correctly\n",
    "- Set the reporting date range and export options in the first code cell"
   ]
  },
  {
   "cell_type": "code",
   "execution_count": null,
   "metadata": {},
   "outputs": [],
   "source": [
    "from datetime import date, datetime, timedelta\n",
    "\n",
    "# Reporting date range\n",
    "start = date(1900, 1, 1)\n",
    "end = datetime.now() + timedelta(days=1)\n",
    "\n",
    "# Export format for the chart:\n",
    "# PNG     - export as PNG image\n",
    "# PDF     - export as PDF file\n",
    "# <blank> - do not export\n",
    "chart_export_format = \"PNG\""
   ]
  },
  {
   "cell_type": "code",
   "execution_count": null,
   "metadata": {},
   "outputs": [],
   "source": [
    "# Limits for high and low blood pressure readings\n",
    "systolic_threshold = 140\n",
    "diastolic_threshold = 90\n",
    "\n",
    "# Threshold used to identify gaps in the data and segment it for plotting\n",
    "gap_threshold = 7"
   ]
  },
  {
   "cell_type": "code",
   "execution_count": null,
   "metadata": {},
   "outputs": [],
   "source": [
    "%run api.ipynb\n",
    "%run config.ipynb"
   ]
  },
  {
   "cell_type": "code",
   "execution_count": null,
   "metadata": {},
   "outputs": [],
   "source": [
    "# Log in to the service, get the person ID and retrieve the data\n",
    "token = authenticate(url, username, password)\n",
    "person_id = get_person_id(url, token, firstnames, surname)\n",
    "df = get_daily_blood_pressure_measurements(url, token, person_id, start, end)\n",
    "\n",
    "# Preview the data\n",
    "df.head()"
   ]
  },
  {
   "cell_type": "code",
   "execution_count": null,
   "metadata": {},
   "outputs": [],
   "source": [
    "# Add a \"month\" column\n",
    "df[\"month\"] = df[\"date\"].dt.to_period(\"M\").dt.to_timestamp()\n",
    "df[\"year\"] = df[\"date\"].dt.to_period(\"Y\").dt.to_timestamp()\n",
    "\n",
    "# Group by month/year and assessment\n",
    "monthly_grouped = df.groupby([\"month\", \"assessment\"]).size().reset_index(name=\"count\")\n",
    "yearly_grouped = df.groupby([\"year\", \"assessment\"]).size().reset_index(name=\"count\")\n",
    "\n",
    "# Pivot for plotting\n",
    "monthly_pivot = monthly_grouped.pivot(index=\"month\", columns=\"assessment\", values=\"count\").fillna(0)\n",
    "yearly_pivot = yearly_grouped.pivot(index=\"year\", columns=\"assessment\", values=\"count\").fillna(0)"
   ]
  },
  {
   "cell_type": "code",
   "execution_count": null,
   "metadata": {},
   "outputs": [],
   "source": [
    "import matplotlib.pyplot as plt\n",
    "from pathlib import Path\n",
    "\n",
    "# Create the folder to hold exported reports\n",
    "export_folder_path = Path(\"exported\")\n",
    "export_folder_path.mkdir(parents=True, exist_ok=True)\n",
    "\n",
    "# Plot\n",
    "fig, ax = plt.subplots(figsize=(14, 6))\n",
    "monthly_pivot.plot(kind=\"bar\", stacked=True, ax=ax, colormap=\"tab20\")\n",
    "\n",
    "# Title and axis labels\n",
    "ax.set_title(\"Monthly Frequency of Blood Pressure Assessment Categories\")\n",
    "ax.set_xlabel(\"Month\")\n",
    "ax.set_ylabel(\"Count\")\n",
    "\n",
    "# Customize x-tick labels\n",
    "xticks = ax.get_xticks()\n",
    "xtick_labels = monthly_pivot.index.strftime(\"%Y-%m\")\n",
    "ax.set_xticks(xticks[::2])\n",
    "ax.set_xticklabels(xtick_labels[::2], rotation=90)\n",
    "\n",
    "# Move legend below the plot\n",
    "ax.legend(\n",
    "    title=\"Assessment\",\n",
    "    bbox_to_anchor=(0.5, -0.25),\n",
    "    loc=\"upper center\",\n",
    "    ncol=3,\n",
    "    frameon=False\n",
    ")\n",
    "\n",
    "# Layout adjustments\n",
    "plt.tight_layout()\n",
    "\n",
    "# Export to PNG\n",
    "export_file_name = \"Assessment-Frequency-Over-Time\"\n",
    "if chart_export_format.casefold() == \"png\":\n",
    "    export_file_path = export_folder_path / f\"{export_file_name}-Monthly.png\"\n",
    "    plt.savefig(export_file_path.absolute(), format=\"png\", dpi=300, bbox_inches=\"tight\")\n",
    "\n",
    "# Export to PDF\n",
    "if chart_export_format.casefold() == \"pdf\":\n",
    "    export_file_path = export_folder_path / f\"{export_file_name}-Monthly.pdf\"\n",
    "    plt.savefig(export_file_path.absolute(), format=\"pdf\", bbox_inches=\"tight\")\n",
    "\n",
    "# Show the chart\n",
    "plt.show()"
   ]
  },
  {
   "cell_type": "code",
   "execution_count": null,
   "metadata": {},
   "outputs": [],
   "source": [
    "import matplotlib.pyplot as plt\n",
    "\n",
    "# Plot\n",
    "fig, ax = plt.subplots(figsize=(14, 6))\n",
    "yearly_pivot.plot(kind=\"bar\", stacked=True, ax=ax, colormap=\"tab20\")\n",
    "\n",
    "# Title and axis labels\n",
    "ax.set_title(\"Annual Frequency of Blood Pressure Assessment Categories\")\n",
    "ax.set_xlabel(\"Year\")\n",
    "ax.set_ylabel(\"Count\")\n",
    "\n",
    "# Customize x-tick labels\n",
    "xticks = ax.get_xticks()\n",
    "xtick_labels = yearly_pivot.index.strftime(\"%Y\")\n",
    "ax.set_xticks(xticks)\n",
    "ax.set_xticklabels(xtick_labels, rotation=90)\n",
    "\n",
    "# Move legend below the plot\n",
    "ax.legend(\n",
    "    title=\"Assessment\",\n",
    "    bbox_to_anchor=(0.5, -0.25),\n",
    "    loc=\"upper center\",\n",
    "    ncol=3,\n",
    "    frameon=False\n",
    ")\n",
    "\n",
    "# Layout adjustments\n",
    "plt.tight_layout()\n",
    "\n",
    "# Export to PNG\n",
    "export_file_name = \"Assessment-Frequency-Over-Time\"\n",
    "if chart_export_format.casefold() == \"png\":\n",
    "    export_file_path = export_folder_path / f\"{export_file_name}-Yearly.png\"\n",
    "    plt.savefig(export_file_path.absolute(), format=\"png\", dpi=300, bbox_inches=\"tight\")\n",
    "\n",
    "# Export to PDF\n",
    "if chart_export_format.casefold() == \"pdf\":\n",
    "    export_file_path = export_folder_path / f\"{export_file_name}-Yearly.pdf\"\n",
    "    plt.savefig(export_file_path.absolute(), format=\"pdf\", bbox_inches=\"tight\")\n",
    "\n",
    "# Show the chart\n",
    "plt.show()"
   ]
  }
 ],
 "metadata": {
  "kernelspec": {
   "display_name": "venv",
   "language": "python",
   "name": "python3"
  },
  "language_info": {
   "codemirror_mode": {
    "name": "ipython",
    "version": 3
   },
   "file_extension": ".py",
   "mimetype": "text/x-python",
   "name": "python",
   "nbconvert_exporter": "python",
   "pygments_lexer": "ipython3",
   "version": "3.11.4"
  },
  "orig_nbformat": 4,
  "vscode": {
   "interpreter": {
    "hash": "4a95780be54ed74a6e7dfb7f5a83a5e6b3ac554c468991dab9a2c664835b4799"
   }
  }
 },
 "nbformat": 4,
 "nbformat_minor": 2
}
