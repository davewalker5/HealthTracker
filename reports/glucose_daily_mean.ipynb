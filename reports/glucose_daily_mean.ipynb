{
 "cells": [
  {
   "attachments": {},
   "cell_type": "markdown",
   "id": "7e970cd3",
   "metadata": {},
   "source": [
    "# Daily Average Glucose\n",
    "\n",
    "This notebook generates daily average glucose chart from blood glucose readings held in the Health Tracker database and retrieved via the Health Tracker Web Service:\n",
    "\n",
    "- A line plot for daily mean\n",
    "- +/- 1 standard deviation shaded area, indicating daily variability\n",
    "- Target zone indicator\n",
    "\n",
    "Both charts include the median line.\n",
    "\n",
    "Before attempting to run the notebook:\n",
    "\n",
    "- Make sure the variables defined in \"config.ipynb\" are set correctly\n",
    "- Set the reporting date range and export options in the first code cell"
   ]
  },
  {
   "cell_type": "code",
   "execution_count": null,
   "id": "e30b908f",
   "metadata": {},
   "outputs": [],
   "source": [
    "from datetime import date, datetime, timedelta\n",
    "\n",
    "# Reporting date range\n",
    "start = date(1900, 1, 1)\n",
    "end = datetime.now() + timedelta(days=1)\n",
    "\n",
    "# Whether to export the data to a spreadsheet\n",
    "export_spreadsheet = True\n",
    "\n",
    "# Export format for the chart:\n",
    "# PNG     - export as PNG image\n",
    "# PDF     - export as PDF file\n",
    "# <blank> - do not export\n",
    "chart_chart_export_format = \"PNG\""
   ]
  },
  {
   "cell_type": "code",
   "execution_count": null,
   "id": "93295929",
   "metadata": {},
   "outputs": [],
   "source": [
    "# Set the percentile limits\n",
    "lower_percentile = 10\n",
    "upper_percentile = 90"
   ]
  },
  {
   "cell_type": "code",
   "execution_count": null,
   "id": "75b79197",
   "metadata": {},
   "outputs": [],
   "source": [
    "%run api.ipynb\n",
    "%run config.ipynb"
   ]
  },
  {
   "cell_type": "code",
   "execution_count": null,
   "id": "78365216",
   "metadata": {},
   "outputs": [],
   "source": [
    "# Log in to the service, get the person ID and retrieve the blood pressure readings\n",
    "token = authenticate(url, username, password)\n",
    "person_id = get_person_id(url, token, firstnames, surname)\n",
    "df = get_blood_glucose_measurements(url, token, person_id, start, end)\n",
    "\n",
    "# Preview the data\n",
    "df.head()"
   ]
  },
  {
   "cell_type": "code",
   "execution_count": null,
   "id": "c2c3edb8",
   "metadata": {},
   "outputs": [],
   "source": [
    "# Rename the date column to timestamp and generate a date-only column\n",
    "df.rename(columns={ \"date\": \"timestamp\" }, inplace=True)\n",
    "df['date'] = df['timestamp'].dt.date\n",
    "\n",
    "# Group by date and calculate mean and standard deviation\n",
    "daily_stats = df.groupby('date')['level'].agg(['mean', 'std']).reset_index()\n",
    "\n",
    "# Preview the data\n",
    "daily_stats.head()"
   ]
  },
  {
   "cell_type": "code",
   "execution_count": null,
   "id": "7d569a47",
   "metadata": {},
   "outputs": [],
   "source": [
    "import pandas as pd\n",
    "from pathlib import Path\n",
    "\n",
    "# Create the folder to hold exported reports\n",
    "export_folder_path = Path(\"exported\")\n",
    "export_folder_path.mkdir(parents=True, exist_ok=True)\n",
    "\n",
    "# Define the export file name\n",
    "export_file_name = \"Glucose-Daily-Mean\"\n",
    "output_path = export_folder_path / f\"{export_file_name}.xlsx\"\n",
    "\n",
    "# Export the data to a spreadsheet\n",
    "if export_spreadsheet:\n",
    "    with pd.ExcelWriter(output_path.absolute(), engine=\"openpyxl\") as writer:\n",
    "        daily_stats.to_excel(writer, sheet_name=\"Daily Mean\", index=False)"
   ]
  },
  {
   "cell_type": "code",
   "execution_count": null,
   "id": "32845e92",
   "metadata": {},
   "outputs": [],
   "source": [
    "import matplotlib.pyplot as plt\n",
    "\n",
    "# Plot setup\n",
    "plt.figure(figsize=(12, 6))\n",
    "\n",
    "# Plot daily mean glucose\n",
    "plt.plot(daily_stats['date'], daily_stats['mean'], label='Daily Mean Glucose (mmol/L)', marker='o')\n",
    "\n",
    "# Plot ±1 standard deviation as a shaded area\n",
    "plt.fill_between(\n",
    "    daily_stats['date'],\n",
    "    daily_stats['mean'] - daily_stats['std'],\n",
    "    daily_stats['mean'] + daily_stats['std'],\n",
    "    color='blue',\n",
    "    alpha=0.2,\n",
    "    label='±1 SD'\n",
    ")\n",
    "\n",
    "# Add target range band: 3.9–10.0 mmol/L\n",
    "plt.axhspan(3.9, 10.0, color='green', alpha=0.1, label='Target Range (3.9–10.0 mmol/L)')\n",
    "\n",
    "# Formatting\n",
    "plt.title('Daily Average Glucose with Variability and Target Range')\n",
    "plt.xlabel('Date')\n",
    "plt.ylabel('Glucose (mmol/L)')\n",
    "plt.xticks(rotation=45)\n",
    "plt.grid(True)\n",
    "\n",
    "# Legend below chart\n",
    "plt.legend(loc='upper center', bbox_to_anchor=(0.5, -0.25), ncol=2)\n",
    "plt.tight_layout()\n",
    "\n",
    "# Export to PNG\n",
    "if chart_chart_export_format.casefold() == \"png\":\n",
    "    export_file_path = export_folder_path / f\"{export_file_name}.png\"\n",
    "    plt.savefig(export_file_path.absolute(), format=\"png\", dpi=300, bbox_inches=\"tight\")\n",
    "\n",
    "# Export to PDF\n",
    "if chart_chart_export_format.casefold() == \"pdf\":\n",
    "    export_file_path = export_folder_path / f\"{export_file_name}.pdf\"\n",
    "    plt.savefig(export_file_path.absolute(), format=\"pdf\", bbox_inches=\"tight\")\n",
    "\n",
    "# Show the plot\n",
    "plt.show()\n"
   ]
  }
 ],
 "metadata": {
  "kernelspec": {
   "display_name": "venv",
   "language": "python",
   "name": "python3"
  },
  "language_info": {
   "codemirror_mode": {
    "name": "ipython",
    "version": 3
   },
   "file_extension": ".py",
   "mimetype": "text/x-python",
   "name": "python",
   "nbconvert_exporter": "python",
   "pygments_lexer": "ipython3",
   "version": "3.11.4"
  }
 },
 "nbformat": 4,
 "nbformat_minor": 5
}
