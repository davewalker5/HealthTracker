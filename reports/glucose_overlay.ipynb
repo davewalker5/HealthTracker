{
 "cells": [
  {
   "attachments": {},
   "cell_type": "markdown",
   "id": "7e970cd3",
   "metadata": {},
   "source": [
    "# Daily Glucose Overlay\n",
    "\n",
    "This notebook generates daily glucose overlay charts from blood glucose readings held in the Health Tracker database and retrieved via the Health Tracker Web Service:\n",
    "\n",
    "- A daily overlay or \"spaghetti\" chart with one line per day\n",
    "- A \"percentile\" chart shading between upper and lower percentiles\n",
    "\n",
    "Both charts include the median line.\n",
    "\n",
    "It requires a copy of \"api.ipynb\" in the same folder, as this defines functions used to access the web service.\n",
    "\n",
    "To use it, set the credentials, user details and chart export format in the first code cell before running the notebook."
   ]
  },
  {
   "cell_type": "code",
   "execution_count": null,
   "id": "e30b908f",
   "metadata": {},
   "outputs": [],
   "source": [
    "# Credentials for the user to log in as\n",
    "username = \"\"\n",
    "password = \"\"\n",
    "\n",
    "# Details for the person to report for\n",
    "firstnames = \"\"\n",
    "surname = \"\"\n",
    "\n",
    "# Export format for the chart:\n",
    "# PNG     - export as PNG image\n",
    "# PDF     - export as PDF file\n",
    "# <blank> - do not export\n",
    "export_format = \"PNG\""
   ]
  },
  {
   "cell_type": "code",
   "execution_count": null,
   "id": "93295929",
   "metadata": {},
   "outputs": [],
   "source": [
    "# Base URL for the Health Tracker service\n",
    "url = \"http://localhost:8099\"\n",
    "\n",
    "# Set the percentile limits\n",
    "lower_percentile = 10\n",
    "upper_percentile = 90"
   ]
  },
  {
   "cell_type": "code",
   "execution_count": null,
   "id": "75b79197",
   "metadata": {},
   "outputs": [],
   "source": [
    "%run api.ipynb"
   ]
  },
  {
   "cell_type": "code",
   "execution_count": null,
   "id": "78365216",
   "metadata": {},
   "outputs": [],
   "source": [
    "from datetime import date, datetime, timedelta\n",
    "\n",
    "# Retrieve all-time blood glucose readings\n",
    "start = date(1900, 1, 1)\n",
    "end = datetime.now() + timedelta(days=1)\n",
    "\n",
    "# Log in to the service, get the person ID and retrieve the blood pressure readings\n",
    "token = authenticate(url, username, password)\n",
    "person_id = get_person_id(url, token, firstnames, surname)\n",
    "df = get_blood_glucose_measurements(url, token, person_id, start, end)\n",
    "\n",
    "# Preview the data\n",
    "df.head()"
   ]
  },
  {
   "cell_type": "code",
   "execution_count": null,
   "id": "c2c3edb8",
   "metadata": {},
   "outputs": [],
   "source": [
    "# Rename the existing date column, that contains a date and time and round the timestamp to the\n",
    "# nearest 5 minutes to align the data (failing to do this means the pivot won\"t work well when\n",
    "# plotted)\n",
    "df.rename(columns={ \"date\": \"timestamp\" }, inplace=True)\n",
    "df[\"timestamp\"] = df[\"timestamp\"].dt.round(\"5min\")\n",
    "\n",
    "# Create columns for date and time-of-day\n",
    "df[\"date\"] = df[\"timestamp\"].dt.date\n",
    "df[\"time\"] = df[\"timestamp\"].dt.strftime(\"%H:%M\")\n",
    "\n",
    "# Pivot the data where rows are the time of day and columns are the date\n",
    "pivot_df = df.pivot(index=\"time\", columns=\"date\", values=\"level\")\n",
    "\n",
    "# Preview the data\n",
    "pivot_df.head()"
   ]
  },
  {
   "cell_type": "code",
   "execution_count": null,
   "id": "7228663b",
   "metadata": {},
   "outputs": [],
   "source": [
    "# Calculate the median line\n",
    "median_glucose = pivot_df.median(axis=1)\n",
    "\n",
    "# Calculate percentile bands for the shaded plot\n",
    "q10 = pivot_df.quantile(lower_percentile / 100, axis=1)\n",
    "q90 = pivot_df.quantile(upper_percentile / 100, axis=1)"
   ]
  },
  {
   "cell_type": "code",
   "execution_count": null,
   "id": "7d569a47",
   "metadata": {},
   "outputs": [],
   "source": [
    "import pandas as pd\n",
    "from pathlib import Path\n",
    "\n",
    "# Create the folder to hold exported reports\n",
    "export_folder_path = Path(\"exported\")\n",
    "export_folder_path.mkdir(parents=True, exist_ok=True)\n",
    "\n",
    "# Define the export file name\n",
    "export_file_name = \"Glucose-Overlay\""
   ]
  },
  {
   "cell_type": "code",
   "execution_count": null,
   "id": "7432600b",
   "metadata": {},
   "outputs": [],
   "source": [
    "import pandas as pd\n",
    "import matplotlib.pyplot as plt\n",
    "\n",
    "# Plot a spaghetti plot in which each line is 1 day\n",
    "ax = pivot_df.plot(figsize=(12, 8), legend=False, alpha=0.7, linewidth=1)\n",
    "\n",
    "# Add the median line\n",
    "plt.plot(median_glucose.index, median_glucose.values, color=\"black\", label=\"Median\", linewidth=2)\n",
    "\n",
    "# Add title and labels\n",
    "ax.set_title(\"Daily Glucose Overlay\")\n",
    "ax.set_xlabel(\"Time of Day\")\n",
    "ax.set_ylabel(\"Glucose (mmol/L)\")\n",
    "plt.xticks(rotation=45)\n",
    "plt.grid(True)\n",
    "\n",
    "# Create a legend below the plot\n",
    "plt.legend(\n",
    "    title=\"Date\",\n",
    "    bbox_to_anchor=(0.5, -0.2),\n",
    "    loc=\"upper center\",\n",
    "    ncol=6,\n",
    "    fontsize=\"small\",\n",
    "    title_fontsize=\"small\"\n",
    ")\n",
    "\n",
    "plt.tight_layout()\n",
    "\n",
    "# Export to PNG\n",
    "if export_format.casefold() == \"png\":\n",
    "    export_file_path = export_folder_path / f\"{export_file_name}-Daily.png\"\n",
    "    plt.savefig(export_file_path.absolute(), format=\"png\", dpi=300, bbox_inches=\"tight\")\n",
    "\n",
    "# Export to PDF\n",
    "if export_format.casefold() == \"pdf\":\n",
    "    export_file_path = export_folder_path / f\"{export_file_name}-Daily.pdf\"\n",
    "    plt.savefig(export_file_path.absolute(), format=\"pdf\", bbox_inches=\"tight\")\n",
    "\n",
    "plt.show()\n"
   ]
  },
  {
   "cell_type": "code",
   "execution_count": null,
   "id": "bb169e68",
   "metadata": {},
   "outputs": [],
   "source": [
    "import pandas as pd\n",
    "import matplotlib.pyplot as plt\n",
    "\n",
    "# Set x-ticks to every hour (12 x 5 minutes = 60 minutes = 1 hour)\n",
    "xticks_to_show = pivot_df.index[::12]\n",
    "\n",
    "# Shade between the percentiles\n",
    "plt.figure(figsize=(12, 8))\n",
    "percentile_label = f\"{lower_percentile} - {upper_percentile} Percentile\"\n",
    "plt.fill_between(q10.index, q10, q90, color=\"lightblue\", alpha=0.7, label=percentile_label)\n",
    "\n",
    "# Add the median line\n",
    "plt.plot(median_glucose.index, median_glucose.values, color=\"black\", label=\"Median\", linewidth=1)\n",
    "\n",
    "# Add title and labels\n",
    "plt.title(\"Daily Glucose Overlay\")\n",
    "plt.xlabel(\"Time of Day\")\n",
    "plt.ylabel(\"Glucose (mmol/L)\")\n",
    "plt.xticks(ticks=xticks_to_show, rotation=90)\n",
    "plt.grid(True)\n",
    "\n",
    "# Create a legend below the plot\n",
    "plt.legend(\n",
    "    title=\"Date\",\n",
    "    bbox_to_anchor=(0.5, -0.2),\n",
    "    loc=\"upper center\",\n",
    "    ncol=6,\n",
    "    fontsize=\"small\",\n",
    "    title_fontsize=\"small\"\n",
    ")\n",
    "\n",
    "plt.tight_layout()\n",
    "\n",
    "# Export to PNG\n",
    "if export_format.casefold() == \"png\":\n",
    "    export_file_path = export_folder_path / f\"{export_file_name}-Percentile.png\"\n",
    "    plt.savefig(export_file_path.absolute(), format=\"png\", dpi=300, bbox_inches=\"tight\")\n",
    "\n",
    "# Export to PDF\n",
    "if export_format.casefold() == \"pdf\":\n",
    "    export_file_path = export_folder_path / f\"{export_file_name}-Percentile.pdf\"\n",
    "    plt.savefig(export_file_path.absolute(), format=\"pdf\", bbox_inches=\"tight\")\n",
    "\n",
    "plt.show()\n"
   ]
  }
 ],
 "metadata": {
  "kernelspec": {
   "display_name": "Python 3",
   "language": "python",
   "name": "python3"
  },
  "language_info": {
   "codemirror_mode": {
    "name": "ipython",
    "version": 3
   },
   "file_extension": ".py",
   "mimetype": "text/x-python",
   "name": "python",
   "nbconvert_exporter": "python",
   "pygments_lexer": "ipython3",
   "version": "3.13.2"
  },
  "vscode": {
   "interpreter": {
    "hash": "7a792fcb311f9eb9f3c1b942a8c87ada8484712b89b670347c16a1088e0a1f69"
   }
  }
 },
 "nbformat": 4,
 "nbformat_minor": 5
}
