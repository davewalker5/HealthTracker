{
 "cells": [
  {
   "cell_type": "markdown",
   "id": "3d112f59",
   "metadata": {},
   "source": [
    "# Export File Location"
   ]
  },
  {
   "cell_type": "code",
   "execution_count": 1,
   "id": "8dc5a584",
   "metadata": {},
   "outputs": [],
   "source": [
    "import os\n",
    "from pathlib import Path\n",
    "\n",
    "def create_export_folder():\n",
    "    # Create the folder to hold exported reports\n",
    "    reports_folder = os.path.dirname(os.getcwd())\n",
    "    export_folder_path = Path(reports_folder) / Path(\"exported\")\n",
    "    export_folder_path.mkdir(parents=True, exist_ok=True)\n",
    "    return export_folder_path"
   ]
  },
  {
   "cell_type": "markdown",
   "id": "54bd534e",
   "metadata": {},
   "source": [
    "# Export File Naming"
   ]
  },
  {
   "cell_type": "code",
   "execution_count": 2,
   "id": "56352c2e",
   "metadata": {},
   "outputs": [],
   "source": [
    "def get_export_file_name(name, suffix, extension):\n",
    "    # An export file is given the same name as the notebook followed by an optional suffix\n",
    "    # and with the extension replaced with that provided\n",
    "    export_path = Path(name)\n",
    "    if suffix:\n",
    "        export_file_name = f\"{export_path.stem}-{suffix}.{extension}\"\n",
    "    else:\n",
    "        export_file_name = f\"{export_path.stem}.{extension}\"\n",
    "\n",
    "    return export_file_name"
   ]
  },
  {
   "cell_type": "markdown",
   "id": "c2a20a49",
   "metadata": {},
   "source": [
    "# Export To Excel"
   ]
  },
  {
   "cell_type": "code",
   "execution_count": null,
   "id": "4b1ae31f",
   "metadata": {},
   "outputs": [],
   "source": [
    "import pandas as pd\n",
    "from pathlib import Path\n",
    "\n",
    "def export_to_spreadsheet(name, data):\n",
    "    # Create the export folder, if it doesn't already exist, and get its path\n",
    "    export_folder_path = create_export_folder()\n",
    "\n",
    "    # Determine the spreadsheet file name from the notebook name\n",
    "    spreadsheet_name = get_export_file_name(name, None, \"xlsx\")\n",
    "\n",
    "    # Create the spreadsheet\n",
    "    spreadsheet_path = Path(export_folder_path) / Path(spreadsheet_name)\n",
    "    with pd.ExcelWriter(spreadsheet_path.absolute(), engine=\"openpyxl\") as writer:\n",
    "        # The input is a dictionary of data frames - the key is the required name of the worksheet in the\n",
    "        # final spreadsheet and the value is the data to be written to that sheet\n",
    "        for key, value in data.items():\n",
    "            if value is not None:\n",
    "                value.to_excel(writer, sheet_name=key, index=True)"
   ]
  },
  {
   "cell_type": "markdown",
   "id": "3cb35178",
   "metadata": {},
   "source": [
    "# Export Chart"
   ]
  },
  {
   "cell_type": "code",
   "execution_count": 4,
   "id": "4dcf4274",
   "metadata": {},
   "outputs": [],
   "source": [
    "import matplotlib.pyplot as plt\n",
    "\n",
    "def export_chart(name, suffix, extension):\n",
    "    # Check the format is supported\n",
    "    format = extension.casefold()\n",
    "    if extension.casefold() in [\"png\", \"pdf\"]:\n",
    "        # Create the export folder, if it doesn't already exist, and get its path\n",
    "        export_folder_path = create_export_folder()\n",
    "\n",
    "        # Get the name of the export file and construct a full export file path\n",
    "        chart_file_name = get_export_file_name(name, suffix, extension)\n",
    "        chart_file_path = Path(export_folder_path) / Path(chart_file_name)\n",
    "\n",
    "        # Export the chart\n",
    "        plt.savefig(chart_file_path.absolute(), format=format, dpi=300, bbox_inches=\"tight\")\n"
   ]
  }
 ],
 "metadata": {
  "kernelspec": {
   "display_name": "venv",
   "language": "python",
   "name": "python3"
  },
  "language_info": {
   "codemirror_mode": {
    "name": "ipython",
    "version": 3
   },
   "file_extension": ".py",
   "mimetype": "text/x-python",
   "name": "python",
   "nbconvert_exporter": "python",
   "pygments_lexer": "ipython3",
   "version": "3.11.4"
  }
 },
 "nbformat": 4,
 "nbformat_minor": 5
}
