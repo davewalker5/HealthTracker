{
 "cells": [
  {
   "cell_type": "markdown",
   "metadata": {},
   "source": [
    "# Routing"
   ]
  },
  {
   "cell_type": "code",
   "execution_count": null,
   "metadata": {},
   "outputs": [],
   "source": [
    "AUTHENTICATE_ROUTE = \"authenticate\"\n",
    "BLOOD_PRESSURE_ROUTE = \"bloodpressure\"\n",
    "BLOOD_GLUCOSE_ROUTE = \"bloodglucose\"\n",
    "PERSON_ROUTE = \"person\"\n",
    "WEIGHT_ROUTE = \"weight\"\n",
    "\n",
    "ROUTES = {\n",
    "    AUTHENTICATE_ROUTE: \"/users/authenticate\",\n",
    "    BLOOD_PRESSURE_ROUTE: \"/bloodpressuremeasurement\",\n",
    "    BLOOD_GLUCOSE_ROUTE: \"/bloodglucosemeasurement\",\n",
    "    PERSON_ROUTE: \"/person\",\n",
    "    WEIGHT_ROUTE: \"/weightmeasurement\"\n",
    "}"
   ]
  },
  {
   "cell_type": "markdown",
   "metadata": {},
   "source": [
    "# Utility Methods"
   ]
  },
  {
   "cell_type": "code",
   "execution_count": null,
   "metadata": {},
   "outputs": [],
   "source": [
    "from urllib.parse import quote\n",
    "\n",
    "def encode_date(date):\n",
    "    date_string = date.strftime(\"%Y-%m-%d %H:%M:%S\")\n",
    "    encoded = quote(date_string)\n",
    "    return encoded"
   ]
  },
  {
   "cell_type": "markdown",
   "metadata": {},
   "source": [
    "# Authentication"
   ]
  },
  {
   "cell_type": "code",
   "execution_count": null,
   "metadata": {},
   "outputs": [],
   "source": [
    "import requests\n",
    "\n",
    "def authenticate(url, username, password):\n",
    "    payload = { \"UserName\": username, \"Password\": password }\n",
    "    endpoint = f\"{url}{ROUTES[AUTHENTICATE_ROUTE]}\"\n",
    "    response = requests.post(endpoint, json=payload)\n",
    "    response.raise_for_status()\n",
    "    return response.text"
   ]
  },
  {
   "cell_type": "markdown",
   "metadata": {},
   "source": [
    "# Person Retrieval and Identification"
   ]
  },
  {
   "cell_type": "code",
   "execution_count": null,
   "metadata": {},
   "outputs": [],
   "source": [
    "import requests\n",
    "import pandas as pd\n",
    "\n",
    "def list_people(url, token):\n",
    "    headers = { \"Authorization\": f\"Bearer {token}\"}\n",
    "    endpoint = f\"{url}{ROUTES[PERSON_ROUTE]}\"\n",
    "    response = requests.get(endpoint, headers=headers)\n",
    "    response.raise_for_status()\n",
    "    data = response.json()\n",
    "    return pd.DataFrame(data)\n",
    "\n",
    "def get_person(url, token, firstnames, surname):\n",
    "    people = list_people(url, token)\n",
    "    person = people[\n",
    "        (people[\"firstNames\"].str.casefold() == firstnames.casefold()) &\n",
    "        (people[\"surname\"].str.casefold() == surname.casefold())\n",
    "    ]\n",
    "    return person\n",
    "\n",
    "def get_person_id(url, token, firstnames, surname):\n",
    "    person = get_person(url, token, firstnames, surname)\n",
    "    return person.loc[0, \"id\"]"
   ]
  },
  {
   "cell_type": "markdown",
   "metadata": {},
   "source": [
    "# Blood Pressure Data Retrieval"
   ]
  },
  {
   "cell_type": "code",
   "execution_count": null,
   "metadata": {},
   "outputs": [],
   "source": [
    "import requests\n",
    "import pandas as pd\n",
    "\n",
    "def get_daily_blood_pressure_measurements(url, token, person_id, start, end):\n",
    "    # URL encode the dates\n",
    "    encoded_start = encode_date(start)\n",
    "    encoded_end = encode_date(end)\n",
    "\n",
    "    # Send the request to the API\n",
    "    headers = { \"Authorization\": f\"Bearer {token}\"}\n",
    "    endpoint = f\"{url}{ROUTES[BLOOD_PRESSURE_ROUTE]}/dailyaverage/{person_id}/{encoded_start}/{encoded_end}\"\n",
    "    response = requests.get(endpoint, headers=headers)\n",
    "    response.raise_for_status()\n",
    "\n",
    "    # Extract the response JSON and convert to a dataframe then make sure the date column\n",
    "    # contains dates rather than string representations of dates\n",
    "    data = response.json()\n",
    "    df = pd.DataFrame(data)\n",
    "    df[\"date\"] = pd.to_datetime(df[\"date\"])\n",
    "\n",
    "    return df\n"
   ]
  },
  {
   "cell_type": "markdown",
   "metadata": {},
   "source": [
    "# Weight Measurement Data Retrieval"
   ]
  },
  {
   "cell_type": "code",
   "execution_count": null,
   "metadata": {},
   "outputs": [],
   "source": [
    "import requests\n",
    "import pandas as pd\n",
    "\n",
    "def get_weight_measurements(url, token, person_id, start, end):\n",
    "    # URL encode the dates\n",
    "    encoded_start = encode_date(start)\n",
    "    encoded_end = encode_date(end)\n",
    "\n",
    "    # Send the request to the API\n",
    "    headers = { \"Authorization\": f\"Bearer {token}\"}\n",
    "    endpoint = f\"{url}{ROUTES[WEIGHT_ROUTE]}/{person_id}/{encoded_start}/{encoded_end}\"\n",
    "    response = requests.get(endpoint, headers=headers)\n",
    "    response.raise_for_status()\n",
    "\n",
    "    # Extract the response JSON and convert to a dataframe then make sure the date column\n",
    "    # contains dates rather than string representations of dates\n",
    "    data = response.json()\n",
    "    df = pd.DataFrame(data)\n",
    "    df[\"date\"] = pd.to_datetime(df[\"date\"])\n",
    "\n",
    "    return df\n"
   ]
  },
  {
   "cell_type": "markdown",
   "metadata": {},
   "source": [
    "# Blood Glucose Data Retrieval"
   ]
  },
  {
   "cell_type": "code",
   "execution_count": null,
   "metadata": {},
   "outputs": [],
   "source": [
    "import requests\n",
    "import pandas as pd\n",
    "\n",
    "def get_blood_glucose_measurements(url, token, person_id, start, end):\n",
    "    # URL encode the dates\n",
    "    encoded_start = encode_date(start)\n",
    "    encoded_end = encode_date(end)\n",
    "\n",
    "    # Send the request to the API\n",
    "    headers = { \"Authorization\": f\"Bearer {token}\"}\n",
    "    endpoint = f\"{url}{ROUTES[BLOOD_GLUCOSE_ROUTE]}/{person_id}/{encoded_start}/{encoded_end}\"\n",
    "    response = requests.get(endpoint, headers=headers)\n",
    "    response.raise_for_status()\n",
    "\n",
    "    # Extract the response JSON and convert to a dataframe then make sure the date column\n",
    "    # contains dates rather than string representations of dates\n",
    "    data = response.json()\n",
    "    df = pd.DataFrame(data)\n",
    "    df[\"date\"] = pd.to_datetime(df[\"date\"])\n",
    "\n",
    "    return df\n"
   ]
  }
 ],
 "metadata": {
  "kernelspec": {
   "display_name": "Python 3",
   "language": "python",
   "name": "python3"
  },
  "language_info": {
   "codemirror_mode": {
    "name": "ipython",
    "version": 3
   },
   "file_extension": ".py",
   "mimetype": "text/x-python",
   "name": "python",
   "nbconvert_exporter": "python",
   "pygments_lexer": "ipython3",
   "version": "3.13.2"
  },
  "orig_nbformat": 4,
  "vscode": {
   "interpreter": {
    "hash": "7a792fcb311f9eb9f3c1b942a8c87ada8484712b89b670347c16a1088e0a1f69"
   }
  }
 },
 "nbformat": 4,
 "nbformat_minor": 2
}
